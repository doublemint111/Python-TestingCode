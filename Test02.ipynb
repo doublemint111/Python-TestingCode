{
 "cells": [
  {
   "cell_type": "code",
   "execution_count": 2,
   "metadata": {},
   "outputs": [
    {
     "name": "stdout",
     "output_type": "stream",
     "text": [
      "Version:  3.7.4\n"
     ]
    }
   ],
   "source": [
    "# 在 jupyter notebook 檢查 python 版本\n",
    "from platform import python_version\n",
    "print(\"Version: \", python_version())"
   ]
  },
  {
   "cell_type": "code",
   "execution_count": 3,
   "metadata": {},
   "outputs": [
    {
     "name": "stdout",
     "output_type": "stream",
     "text": [
      "x1:4, type is:<class 'int'>\n"
     ]
    }
   ],
   "source": [
    "x1 = 4       # x1 是整數型態\n",
    "print('x1:{}, type is:{}'.format(x1, type(x1))) # 另一種使用 format 的顯示方式"
   ]
  },
  {
   "cell_type": "code",
   "execution_count": 5,
   "metadata": {},
   "outputs": [
    {
     "name": "stdout",
     "output_type": "stream",
     "text": [
      "<class 'int'>\n"
     ]
    }
   ],
   "source": [
    "print('{}'.format(type(x1))) "
   ]
  },
  {
   "cell_type": "code",
   "execution_count": 6,
   "metadata": {},
   "outputs": [],
   "source": [
    "# 刪除 x1 變數以節省記憶體\n",
    "del x1"
   ]
  },
  {
   "cell_type": "code",
   "execution_count": 7,
   "metadata": {},
   "outputs": [
    {
     "data": {
      "text/plain": [
       "[\"I'm\", 'doing', 'to', 'Csoco', 'shopping']"
      ]
     },
     "execution_count": 7,
     "metadata": {},
     "output_type": "execute_result"
    }
   ],
   "source": [
    "# 分割字串\n",
    "x = \"I'm doing to Csoco shopping\"\n",
    "x.split()"
   ]
  },
  {
   "cell_type": "code",
   "execution_count": 8,
   "metadata": {},
   "outputs": [
    {
     "name": "stdout",
     "output_type": "stream",
     "text": [
      "This is a test of\n",
      "multiple line of strings.\n",
      "It shall print out as it is shown.\n"
     ]
    }
   ],
   "source": [
    "# 多列的字串\n",
    "y1 = \"\"\"This is a test of\n",
    "multiple line of strings.\n",
    "It shall print out as it is shown.\"\"\"\n",
    "print(y1)"
   ]
  },
  {
   "cell_type": "code",
   "execution_count": 9,
   "metadata": {},
   "outputs": [
    {
     "name": "stdout",
     "output_type": "stream",
     "text": [
      "5\n",
      "<class 'int'>\n"
     ]
    }
   ],
   "source": [
    "# 整數 int\n",
    "A = 3\n",
    "type(A)\n",
    "\n",
    "B = 2\n",
    "C = A + B\n",
    "print(C)\n",
    "print(type(C))"
   ]
  },
  {
   "cell_type": "code",
   "execution_count": 10,
   "metadata": {},
   "outputs": [
    {
     "name": "stdout",
     "output_type": "stream",
     "text": [
      "5.12345\n",
      "<class 'float'>\n"
     ]
    }
   ],
   "source": [
    "# 浮點數 float\n",
    "A = 3\n",
    "type(A)\n",
    "\n",
    "B = 2.12345\n",
    "C = A + B\n",
    "print(C)\n",
    "print(type(C))"
   ]
  },
  {
   "cell_type": "code",
   "execution_count": 13,
   "metadata": {},
   "outputs": [
    {
     "name": "stdout",
     "output_type": "stream",
     "text": [
      "x2: 10\n"
     ]
    }
   ],
   "source": [
    "#填數值方法\n",
    "x2=10\n",
    "print('x2: {}'.format(x2))"
   ]
  },
  {
   "cell_type": "code",
   "execution_count": 18,
   "metadata": {},
   "outputs": [
    {
     "name": "stdout",
     "output_type": "stream",
     "text": [
      "A: 10\n"
     ]
    }
   ],
   "source": [
    "x=10\n",
    "y=\"A\"\n",
    "print(y+':',x)"
   ]
  },
  {
   "cell_type": "code",
   "execution_count": 19,
   "metadata": {},
   "outputs": [
    {
     "name": "stdout",
     "output_type": "stream",
     "text": [
      "name=John: A=50; B=60.12345\n",
      "Name=John: A=50; B=60\n",
      "Name=John: A=50; B=60.123450\n",
      "Name=John: A=50; B=60.12\n"
     ]
    }
   ],
   "source": [
    "## 傳統作法\n",
    "name='John'\n",
    "A = 50\n",
    "B = 60.12345\n",
    "print('name=' + name + ': A=' + str(A) + '; B=' + str(B))\n",
    "\n",
    "## 傳統作法 II -「%」參數格式\n",
    "print('Name=%s: A=%d; B=%d' % (name, A, B))\n",
    "print('Name=%s: A=%d; B=%f' % (name, A, B))\n",
    "print('Name=%s: A=%d; B=%5.2f' % (name, A, B))"
   ]
  },
  {
   "cell_type": "code",
   "execution_count": 20,
   "metadata": {},
   "outputs": [
    {
     "name": "stdout",
     "output_type": "stream",
     "text": [
      "John 的成績是 60\n"
     ]
    }
   ],
   "source": [
    "print(\"%s 的成績是 %d\" % (name, B)) # %s 以字串輸出；%d 以整數資料型態輸出"
   ]
  },
  {
   "cell_type": "code",
   "execution_count": 21,
   "metadata": {},
   "outputs": [
    {
     "name": "stdout",
     "output_type": "stream",
     "text": [
      "1.111001e+03\n"
     ]
    }
   ],
   "source": [
    "C = 1111.001\n",
    "print(\"%e\" % C) # %e 以科學記號輸出"
   ]
  },
  {
   "cell_type": "code",
   "execution_count": 22,
   "metadata": {},
   "outputs": [
    {
     "name": "stdout",
     "output_type": "stream",
     "text": [
      "John 的成績是 50\n",
      "姓名 座號 國文 數學 英文\n",
      "Jack 100  90  80  70\n",
      "------------------------------\n",
      "Jack 100  90  80  70\n"
     ]
    }
   ],
   "source": [
    "# 建議作法 - 「format」格式化\n",
    "print(\"{} 的成績是 {}\".format(name, A)) # 以一對大括號 {} 表示參數的位置\n",
    "print('姓名 座號 國文 數學 英文')\n",
    "print('%4s %2d %3d %3d %3d' % ('Jack', 100, 90, 80, 70))\n",
    "print('-'*30)\n",
    "print('{:4s} {:2d} {:3d} {:3d} {:3d}'.format('Jack', 100, 90, 80, 70))"
   ]
  },
  {
   "cell_type": "code",
   "execution_count": 23,
   "metadata": {},
   "outputs": [
    {
     "name": "stdout",
     "output_type": "stream",
     "text": [
      "請輸入平時成績100\n",
      "平時成績 100\n"
     ]
    }
   ],
   "source": [
    "score = input('請輸入平時成績')\n",
    "print('平時成績 %d' % int(score)) # 輸入的成績 score 為字串型態，需要轉換為數字型態"
   ]
  },
  {
   "cell_type": "markdown",
   "metadata": {},
   "source": [
    "# 隨機 (Random Number)"
   ]
  },
  {
   "cell_type": "code",
   "execution_count": 24,
   "metadata": {},
   "outputs": [],
   "source": [
    "import random"
   ]
  },
  {
   "cell_type": "code",
   "execution_count": 26,
   "metadata": {},
   "outputs": [
    {
     "name": "stdout",
     "output_type": "stream",
     "text": [
      "x1: 2\n"
     ]
    }
   ],
   "source": [
    "x1 = random.randrange(1,10) # get a random number between [1, 10)\n",
    "print('x1: {}'.format(x1)) "
   ]
  },
  {
   "cell_type": "code",
   "execution_count": 27,
   "metadata": {},
   "outputs": [
    {
     "name": "stdout",
     "output_type": "stream",
     "text": [
      "x2: 10\n"
     ]
    }
   ],
   "source": [
    "x2 = random.randint(1, 10)  # get a random number between [1, 10]\n",
    "print('x2: {}'.format(x2)) "
   ]
  },
  {
   "cell_type": "code",
   "execution_count": 28,
   "metadata": {},
   "outputs": [
    {
     "name": "stdout",
     "output_type": "stream",
     "text": [
      "x3: 0.805273716129827\n"
     ]
    }
   ],
   "source": [
    "x3 = random.random()        # get a random number between [0.0, 1.0)\n",
    "print('x3: {}'.format(x3)) "
   ]
  },
  {
   "cell_type": "code",
   "execution_count": 29,
   "metadata": {},
   "outputs": [
    {
     "name": "stdout",
     "output_type": "stream",
     "text": [
      "x before shuffle: [1, 2, 3, 4, 5]\n"
     ]
    }
   ],
   "source": [
    "x = list([1, 2, 3, 4, 5])\n",
    "print('x before shuffle: {}'.format(x))"
   ]
  },
  {
   "cell_type": "code",
   "execution_count": 30,
   "metadata": {},
   "outputs": [
    {
     "name": "stdout",
     "output_type": "stream",
     "text": [
      "x after shuffle: [1, 4, 2, 3, 5]\n"
     ]
    }
   ],
   "source": [
    "random.shuffle(x) # shuffle 是洗牌的意思，在此用意是將 list x 的元素順序打亂\n",
    "print('x after shuffle: {}'.format(x))"
   ]
  },
  {
   "cell_type": "code",
   "execution_count": 31,
   "metadata": {},
   "outputs": [
    {
     "name": "stdout",
     "output_type": "stream",
     "text": [
      "[0, 10, 20, 30, 40, 50, 60, 70, 80, 90]\n"
     ]
    }
   ],
   "source": [
    "x = list(range(0, 100, 10)) # range from is (0, 100) step 10\n",
    "print(x) # [0, 10, 20, 30, 40, 50, 60, 70, 80, 90]"
   ]
  },
  {
   "cell_type": "code",
   "execution_count": 33,
   "metadata": {},
   "outputs": [
    {
     "name": "stdout",
     "output_type": "stream",
     "text": [
      "[40, 10, 20, 50, 30]\n"
     ]
    }
   ],
   "source": [
    "print(random.sample(x, 5)) # randomly get 5 elements from x"
   ]
  },
  {
   "cell_type": "markdown",
   "metadata": {},
   "source": [
    "# 日期時間"
   ]
  },
  {
   "cell_type": "code",
   "execution_count": 34,
   "metadata": {},
   "outputs": [
    {
     "name": "stdout",
     "output_type": "stream",
     "text": [
      "now:  2020-04-04 17:41:12.547275\n",
      "日期時間格式:  <class 'datetime.datetime'>\n"
     ]
    }
   ],
   "source": [
    "import datetime\n",
    "now = datetime.datetime.now()\n",
    "print('now: ', now)\n",
    "print('日期時間格式: ', type(now))   # datetime.datetime"
   ]
  },
  {
   "cell_type": "code",
   "execution_count": 35,
   "metadata": {},
   "outputs": [
    {
     "name": "stdout",
     "output_type": "stream",
     "text": [
      "date:  2020-04-04\n",
      "today:  2020-04-04 17:41:24.771590\n",
      "time:  17:41:12.547275\n"
     ]
    }
   ],
   "source": [
    "print('date: ', now.date())  # datetime.date\n",
    "print('today: ', now.today())\n",
    "print('time: ', now.time())  # datetime.time"
   ]
  },
  {
   "cell_type": "code",
   "execution_count": 36,
   "metadata": {},
   "outputs": [
    {
     "name": "stdout",
     "output_type": "stream",
     "text": [
      "now 的年份:  2020\n",
      "now 的月份:  4\n",
      "now 的日期:  4\n"
     ]
    }
   ],
   "source": [
    "# 從 datetime 取出日期: year, mmonth and date #\n",
    "import datetime\n",
    "now = datetime.datetime.now()\n",
    "print('now 的年份: ', now.year)\n",
    "print('now 的月份: ', now.month)\n",
    "print('now 的日期: ', now.day)"
   ]
  },
  {
   "cell_type": "code",
   "execution_count": 37,
   "metadata": {},
   "outputs": [
    {
     "name": "stdout",
     "output_type": "stream",
     "text": [
      "2020-04-04 17:41:56\n",
      "2020-04-04\n"
     ]
    }
   ],
   "source": [
    "# 使用 strftime() \n",
    "date = datetime.datetime.now().strftime(\"%Y-%m-%d %H:%M:%S\")\n",
    "print(date)\n",
    "date = datetime.datetime.now().strftime(\"%Y-%m-%d\")\n",
    "print(date)"
   ]
  },
  {
   "cell_type": "code",
   "execution_count": 39,
   "metadata": {},
   "outputs": [
    {
     "name": "stdout",
     "output_type": "stream",
     "text": [
      "處理日期字串 (字串 -> datetime).....\n",
      "date1: 2019-11-12 00:00:00\n",
      "date2: 2019-06-15 12:25:43\n"
     ]
    }
   ],
   "source": [
    "#strptime() 讀取字串後轉換為日期，字串必須符合格式，such as 'YYYY-MM-DD' or 'DD-MM-YYYY'\n",
    "print('處理日期字串 (字串 -> datetime).....')\n",
    "myStr1 = '2019-11-12' # 日期字串\n",
    "myStr2 = '15-06-2019 12:25:43' # 日期字串\n",
    "\n",
    "# 注意，myStr1 和 myStr2 的日期格式不同\n",
    "date1 = datetime.datetime.strptime(myStr1, \"%Y-%m-%d\") # 時間預設為 00:00:00\n",
    "date2 = datetime.datetime.strptime(myStr2, \"%d-%m-%Y %H:%M:%S\") \n",
    "print('date1:', date1)\n",
    "print('date2:', date2)"
   ]
  },
  {
   "cell_type": "code",
   "execution_count": 40,
   "metadata": {},
   "outputs": [
    {
     "name": "stdout",
     "output_type": "stream",
     "text": [
      "date1 年分:  2019\n",
      "date1 月份:  11\n",
      "date2 日期:  2019-06-15\n",
      "date2 時間:  12:25:43\n"
     ]
    }
   ],
   "source": [
    "# 將字串化成日期格式後，便可進行日期運算\n",
    "print('date1 年分: ', date1.year)\n",
    "print('date1 月份: ', date1.month)\n",
    "print('date2 日期: ', date2.date())\n",
    "print('date2 時間: ', date2.time())"
   ]
  },
  {
   "cell_type": "code",
   "execution_count": 47,
   "metadata": {},
   "outputs": [
    {
     "data": {
      "text/plain": [
       "datetime.datetime(2015, 7, 21, 0, 0)"
      ]
     },
     "execution_count": 47,
     "metadata": {},
     "output_type": "execute_result"
    }
   ],
   "source": [
    "#有一個字串是 str1 = '07-21-2015'，請將此字串轉為日期。\n",
    "str1 = '07-21-2015'\n",
    "str1='2015-07-21'\n",
    "date1 = datetime.datetime.strptime(str1, \"%Y-%m-%d\")\n",
    "date1"
   ]
  },
  {
   "cell_type": "code",
   "execution_count": 48,
   "metadata": {},
   "outputs": [
    {
     "data": {
      "text/plain": [
       "12"
      ]
     },
     "execution_count": 48,
     "metadata": {},
     "output_type": "execute_result"
    }
   ],
   "source": [
    "# 計算字串長度\n",
    "name = 'harry potter'\n",
    "len(name)"
   ]
  },
  {
   "cell_type": "code",
   "execution_count": 49,
   "metadata": {},
   "outputs": [
    {
     "data": {
      "text/plain": [
       "'Harry potter'"
      ]
     },
     "execution_count": 49,
     "metadata": {},
     "output_type": "execute_result"
    }
   ],
   "source": [
    "# 將第一個字的第一個字元大寫\n",
    "name = 'harry potter'\n",
    "name.capitalize()"
   ]
  },
  {
   "cell_type": "code",
   "execution_count": 50,
   "metadata": {},
   "outputs": [
    {
     "data": {
      "text/plain": [
       "'Harry Potter'"
      ]
     },
     "execution_count": 50,
     "metadata": {},
     "output_type": "execute_result"
    }
   ],
   "source": [
    "# 將每一個字的第一個字元大寫\n",
    "name = 'harry potter'\n",
    "name.title()"
   ]
  },
  {
   "cell_type": "code",
   "execution_count": 51,
   "metadata": {},
   "outputs": [
    {
     "data": {
      "text/plain": [
       "'HARRY POTTER'"
      ]
     },
     "execution_count": 51,
     "metadata": {},
     "output_type": "execute_result"
    }
   ],
   "source": [
    "# 將所有字元大寫\n",
    "name.upper()"
   ]
  },
  {
   "cell_type": "code",
   "execution_count": 52,
   "metadata": {},
   "outputs": [
    {
     "data": {
      "text/plain": [
       "'harry potter'"
      ]
     },
     "execution_count": 52,
     "metadata": {},
     "output_type": "execute_result"
    }
   ],
   "source": [
    "# 將所有字元小寫\n",
    "name = 'Harry Potter'\n",
    "name.lower()"
   ]
  },
  {
   "cell_type": "code",
   "execution_count": 53,
   "metadata": {},
   "outputs": [
    {
     "data": {
      "text/plain": [
       "'Harry Potter  '"
      ]
     },
     "execution_count": 53,
     "metadata": {},
     "output_type": "execute_result"
    }
   ],
   "source": [
    "# 去除字串左邊空白\n",
    "name = '      Harry Potter  '\n",
    "name.lstrip()"
   ]
  },
  {
   "cell_type": "code",
   "execution_count": 54,
   "metadata": {},
   "outputs": [
    {
     "data": {
      "text/plain": [
       "'      Harry Potter'"
      ]
     },
     "execution_count": 54,
     "metadata": {},
     "output_type": "execute_result"
    }
   ],
   "source": [
    "# 去除字串右邊空白\n",
    "name.rstrip()"
   ]
  },
  {
   "cell_type": "code",
   "execution_count": 55,
   "metadata": {},
   "outputs": [
    {
     "data": {
      "text/plain": [
       "'Harry Potter'"
      ]
     },
     "execution_count": 55,
     "metadata": {},
     "output_type": "execute_result"
    }
   ],
   "source": [
    "# 去除字串所有空白\n",
    "name.strip()"
   ]
  },
  {
   "cell_type": "code",
   "execution_count": 56,
   "metadata": {},
   "outputs": [
    {
     "data": {
      "text/plain": [
       "'******Harry*Potter**'"
      ]
     },
     "execution_count": 56,
     "metadata": {},
     "output_type": "execute_result"
    }
   ],
   "source": [
    "# 替換字元\n",
    "name.replace(' ', '*') # 將空白字元替換為 '*'"
   ]
  },
  {
   "cell_type": "code",
   "execution_count": 57,
   "metadata": {},
   "outputs": [
    {
     "data": {
      "text/plain": [
       "'      Waffle Potter  '"
      ]
     },
     "execution_count": 57,
     "metadata": {},
     "output_type": "execute_result"
    }
   ],
   "source": [
    "# 替換字元\n",
    "name.replace('Harry', 'Waffle') # 將 'Harry' 字元替換為 'Waffle'"
   ]
  },
  {
   "cell_type": "code",
   "execution_count": 59,
   "metadata": {},
   "outputs": [
    {
     "data": {
      "text/plain": [
       "['apple', 'banana#cherry#orange']"
      ]
     },
     "execution_count": 59,
     "metadata": {},
     "output_type": "execute_result"
    }
   ],
   "source": [
    "#字串切割為 list\n",
    "txt = \"apple#banana#cherry#orange\"\n",
    "txt.split('#', 1) # 切割 txt 字串成為 2 個字串\n",
    "#txt.split('#',2) # 切割 txt 字串成為 3 個字串"
   ]
  },
  {
   "cell_type": "code",
   "execution_count": 60,
   "metadata": {},
   "outputs": [],
   "source": [
    "word = '''一般來說，乍看一個複雜的問題，我們經常不知道如何輕鬆解決。所謂運算思維的概念是遇到這類較複雜問題的時候，\n",
    "將其分解為一系列較小、更易於管理的問題(分解, Decompositon）；然後單獨查看這些較小問題中的每一個，\n",
    "辨認是否類似於已經解決過的問題 (模式識別, Pattern Recognition)，而且，不必全面考量所有的細節面，僅關注和此問題有關的重要部分，\n",
    "忽略與此問題無關的內容（抽象化, Abstraction）； 接下來則是設計簡單的步驟或法則，用以解決每個問題（演算法, Algorithm）。\n",
    "最後，使用電腦程式設計這些簡單步驟或法則，以最佳方式解決複雜問題。'''"
   ]
  },
  {
   "cell_type": "code",
   "execution_count": 61,
   "metadata": {},
   "outputs": [
    {
     "data": {
      "text/plain": [
       "'一般來說，乍看一個複雜的問題，我們經常不知道如何輕鬆解決。所謂運算思維的概念是遇到這類較複雜問題的時候，將其分解為一系列較小、更易於管理的問題(分解, Decompositon）；然後單獨查看這些較小問題中的每一個，辨認是否類似於已經解決過的問題 (模式識別, Pattern Recognition)，而且，不必全面考量所有的細節面，僅關注和此問題有關的重要部分，忽略與此問題無關的內容（抽象化, Abstraction）； 接下來則是設計簡單的步驟或法則，用以解決每個問題（演算法, Algorithm）。最後，使用電腦程式設計這些簡單步驟或法則，以最佳方式解決複雜問題。'"
      ]
     },
     "execution_count": 61,
     "metadata": {},
     "output_type": "execute_result"
    }
   ],
   "source": [
    "word = word.replace('\\n', '')\n",
    "word"
   ]
  },
  {
   "cell_type": "code",
   "execution_count": 62,
   "metadata": {},
   "outputs": [
    {
     "data": {
      "text/plain": [
       "['一般來說',\n",
       " '乍看一個複雜的問題',\n",
       " '我們經常不知道如何輕鬆解決。所謂運算思維的概念是遇到這類較複雜問題的時候',\n",
       " '將其分解為一系列較小、更易於管理的問題(分解, Decompositon）；然後單獨查看這些較小問題中的每一個',\n",
       " '辨認是否類似於已經解決過的問題 (模式識別, Pattern Recognition)',\n",
       " '而且',\n",
       " '不必全面考量所有的細節面',\n",
       " '僅關注和此問題有關的重要部分',\n",
       " '忽略與此問題無關的內容（抽象化, Abstraction）； 接下來則是設計簡單的步驟或法則',\n",
       " '用以解決每個問題（演算法, Algorithm）。最後',\n",
       " '使用電腦程式設計這些簡單步驟或法則',\n",
       " '以最佳方式解決複雜問題。']"
      ]
     },
     "execution_count": 62,
     "metadata": {},
     "output_type": "execute_result"
    }
   ],
   "source": [
    "result = word.split('，')\n",
    "result"
   ]
  },
  {
   "cell_type": "code",
   "execution_count": 63,
   "metadata": {},
   "outputs": [
    {
     "name": "stdout",
     "output_type": "stream",
     "text": [
      "0 一般來說\n",
      "1 乍看一個複雜的問題\n",
      "2 我們經常不知道如何輕鬆解決。所謂運算思維的概念是遇到這類較複雜問題的時候\n",
      "3 將其分解為一系列較小、更易於管理的問題(分解, Decompositon）；然後單獨查看這些較小問題中的每一個\n",
      "4 辨認是否類似於已經解決過的問題 (模式識別, Pattern Recognition)\n",
      "5 而且\n",
      "6 不必全面考量所有的細節面\n",
      "7 僅關注和此問題有關的重要部分\n",
      "8 忽略與此問題無關的內容（抽象化, Abstraction）； 接下來則是設計簡單的步驟或法則\n",
      "9 用以解決每個問題（演算法, Algorithm）。最後\n",
      "10 使用電腦程式設計這些簡單步驟或法則\n",
      "11 以最佳方式解決複雜問題。\n"
     ]
    }
   ],
   "source": [
    "# 循序印出切割後的 index 和內容\n",
    "for idx, content in enumerate(result):\n",
    "    print(idx, content)"
   ]
  },
  {
   "cell_type": "code",
   "execution_count": 64,
   "metadata": {},
   "outputs": [
    {
     "data": {
      "text/plain": [
       "'hello hello hello  3'"
      ]
     },
     "execution_count": 64,
     "metadata": {},
     "output_type": "execute_result"
    }
   ],
   "source": [
    "#f_string (format string 的縮寫) f_string 的結果仍是字串，但優點是能將變數透過大括號 {} 放入字串裡面\n",
    "a = 'hello '\n",
    "b = 3\n",
    "f'{a*3} {b}'"
   ]
  },
  {
   "cell_type": "code",
   "execution_count": 65,
   "metadata": {},
   "outputs": [
    {
     "data": {
      "text/plain": [
       "'123,456.321'"
      ]
     },
     "execution_count": 65,
     "metadata": {},
     "output_type": "execute_result"
    }
   ],
   "source": [
    "money = 123456.321\n",
    "f'{money:,}' # 將數字加入千位數逗號"
   ]
  },
  {
   "cell_type": "code",
   "execution_count": 66,
   "metadata": {},
   "outputs": [
    {
     "data": {
      "text/plain": [
       "'  123456.321'"
      ]
     },
     "execution_count": 66,
     "metadata": {},
     "output_type": "execute_result"
    }
   ],
   "source": [
    "f'{money: 12}' # 變數 money 要有 12 格的大小"
   ]
  },
  {
   "cell_type": "code",
   "execution_count": 67,
   "metadata": {},
   "outputs": [
    {
     "data": {
      "text/plain": [
       "'  123456.321'"
      ]
     },
     "execution_count": 67,
     "metadata": {},
     "output_type": "execute_result"
    }
   ],
   "source": [
    "f'{money: >12}' # 變數 money 要有 12 格的大小，且向右對齊"
   ]
  },
  {
   "cell_type": "code",
   "execution_count": 68,
   "metadata": {},
   "outputs": [
    {
     "data": {
      "text/plain": [
       "' 123456.321 '"
      ]
     },
     "execution_count": 68,
     "metadata": {},
     "output_type": "execute_result"
    }
   ],
   "source": [
    "f'{money: <12}' # 變數 money 要有 12 格的大小，且向左對齊\n",
    "f'{money: ^12}' # 變數 money 要有 12 格的大小，且置中對齊"
   ]
  },
  {
   "cell_type": "code",
   "execution_count": 69,
   "metadata": {},
   "outputs": [
    {
     "data": {
      "text/plain": [
       "'95.60%'"
      ]
     },
     "execution_count": 69,
     "metadata": {},
     "output_type": "execute_result"
    }
   ],
   "source": [
    "f'{money:*>12}' # 變數 money 要有 12 格的大小，向右對齊，空白處填上'*'號\n",
    "f'{money:,.2f}' # 加入千位數逗號且取用小數點 2 位\n",
    "a = 0.956\n",
    "f'{a:.2%}' # 顯示 2 位的百分比"
   ]
  },
  {
   "cell_type": "code",
   "execution_count": 75,
   "metadata": {},
   "outputs": [
    {
     "name": "stdout",
     "output_type": "stream",
     "text": [
      "s1 type:  <class 'bytes'>\n",
      "s2 type:  <class 'str'>\n",
      "s2:  你好\n"
     ]
    }
   ],
   "source": [
    "'''\n",
    "str型別與 bytes型別\n",
    "python對文字和二進位制資料做了區分。\n",
    "文字是Unicode編碼，str型別，用於顯示。\n",
    "二進位制型別是bytes型別，用於儲存和傳輸。\n",
    "bytes是byte的序列，而str是unicode的序列。\n",
    "'''\n",
    "s = '你好'\n",
    "s1 = s.encode('utf-8')\n",
    "print('s1 type: ', type(s1))\n",
    "# str和bytes之間的轉換關係: bytes ->decode()->str\n",
    "# 解碼: decode()\n",
    "s2 = s1.decode('utf-8')\n",
    "print('s2 type: ', type(s2))\n",
    "print('s2: ', s2) # 顯示 b'\\xe4\\xbd\\xa0\\xe5\\xa5\\xbd' 的 str 型別內容"
   ]
  },
  {
   "cell_type": "code",
   "execution_count": 76,
   "metadata": {},
   "outputs": [
    {
     "data": {
      "text/plain": [
       "b'\\xe4\\xbd\\xa0\\xe5\\xa5\\xbd'"
      ]
     },
     "execution_count": 76,
     "metadata": {},
     "output_type": "execute_result"
    }
   ],
   "source": [
    "# 也可以直接用中文字串代入 encode('utf-8')\n",
    "'你好'.encode('utf-8')"
   ]
  },
  {
   "cell_type": "code",
   "execution_count": 77,
   "metadata": {},
   "outputs": [
    {
     "data": {
      "text/plain": [
       "'你好'"
      ]
     },
     "execution_count": 77,
     "metadata": {},
     "output_type": "execute_result"
    }
   ],
   "source": [
    "# 也可以直接用 utf-8 編碼 bytes 代入 decode('utf-8')\n",
    "b'\\xe4\\xbd\\xa0\\xe5\\xa5\\xbd'.decode('utf-8')"
   ]
  },
  {
   "cell_type": "code",
   "execution_count": 78,
   "metadata": {},
   "outputs": [
    {
     "data": {
      "text/plain": [
       "bytearray(b'\\xe4\\xbd\\xa0\\xe5\\xa5\\xbd')"
      ]
     },
     "execution_count": 78,
     "metadata": {},
     "output_type": "execute_result"
    }
   ],
   "source": [
    "# 也可裡用 bytearray() 函式將中文編碼為 utf-8\n",
    "bytearray(u'你好', encoding='utf-8')"
   ]
  },
  {
   "cell_type": "code",
   "execution_count": 79,
   "metadata": {},
   "outputs": [
    {
     "data": {
      "text/plain": [
       "bytearray(b'Hello, how are you?')"
      ]
     },
     "execution_count": 79,
     "metadata": {},
     "output_type": "execute_result"
    }
   ],
   "source": [
    "# 若是英文字串則不會改變\n",
    "bytearray(u'Hello, how are you?', encoding='utf-8')"
   ]
  },
  {
   "cell_type": "code",
   "execution_count": null,
   "metadata": {},
   "outputs": [],
   "source": []
  }
 ],
 "metadata": {
  "kernelspec": {
   "display_name": "Python 3",
   "language": "python",
   "name": "python3"
  },
  "language_info": {
   "codemirror_mode": {
    "name": "ipython",
    "version": 3
   },
   "file_extension": ".py",
   "mimetype": "text/x-python",
   "name": "python",
   "nbconvert_exporter": "python",
   "pygments_lexer": "ipython3",
   "version": "3.7.4"
  }
 },
 "nbformat": 4,
 "nbformat_minor": 2
}
