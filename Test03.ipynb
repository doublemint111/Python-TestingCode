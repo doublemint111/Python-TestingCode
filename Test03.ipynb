{
 "cells": [
  {
   "cell_type": "code",
   "execution_count": 3,
   "metadata": {},
   "outputs": [
    {
     "name": "stdout",
     "output_type": "stream",
     "text": [
      "T1a1i1n1a1n1 1U1n1i1v1e1r1s1i1t1y1 1o1f1 1T1e1c1h1n1o1l1o1g1y1"
     ]
    }
   ],
   "source": [
    "# 字串就是陣列 (strings of arrys)，因此可以透過 for 迴圈一個一個取出字串的元素\n",
    "uni = 'Tainan University of Technology'\n",
    "for x in uni:\n",
    "    print(x, end='1')"
   ]
  },
  {
   "cell_type": "code",
   "execution_count": 2,
   "metadata": {},
   "outputs": [
    {
     "name": "stdout",
     "output_type": "stream",
     "text": [
      "0 1 2 3 4 5 6 7 8 9 "
     ]
    }
   ],
   "source": [
    "# range() 是一個實用的函式，用於產生數字順序\n",
    "strA = range(10) # 產生從 0 到 9 的序列\n",
    "for i in strA:\n",
    "    print(i, end=' ')"
   ]
  },
  {
   "cell_type": "code",
   "execution_count": 4,
   "metadata": {},
   "outputs": [
    {
     "name": "stdout",
     "output_type": "stream",
     "text": [
      "1 3 5 7 9 "
     ]
    }
   ],
   "source": [
    "# range() 產生的數字順序可以指定 '開始數字'、'結束數字'以及'跳號'\n",
    "strA = range(1,10, 2)\n",
    "for i in strA:\n",
    "    print(i, end=' ')"
   ]
  },
  {
   "cell_type": "code",
   "execution_count": 5,
   "metadata": {},
   "outputs": [
    {
     "name": "stdout",
     "output_type": "stream",
     "text": [
      "0: T\n",
      "1: a\n",
      "2: i\n",
      "3: n\n",
      "4: a\n",
      "5: n\n",
      "6:  \n",
      "7: U\n",
      "8: n\n",
      "9: i\n",
      "10: v\n",
      "11: e\n",
      "12: r\n",
      "13: s\n",
      "14: i\n",
      "15: t\n",
      "16: y\n",
      "17:  \n",
      "18: o\n",
      "19: f\n",
      "20:  \n",
      "21: T\n",
      "22: e\n",
      "23: c\n",
      "24: h\n",
      "25: n\n",
      "26: o\n",
      "27: l\n",
      "28: o\n",
      "29: g\n",
      "30: y\n"
     ]
    }
   ],
   "source": [
    "# enumerate() 函式\n",
    "# enumerate 的原始含意是列舉的意思，在此是走訪每一個可迭代(iterable)物件的元素，且在每個元素前面加上 index\n",
    "for i, item in enumerate(uni):    # enumerate: iterator\n",
    "    print('{}: {}'.format(i, item))"
   ]
  },
  {
   "cell_type": "code",
   "execution_count": 6,
   "metadata": {},
   "outputs": [
    {
     "name": "stdout",
     "output_type": "stream",
     "text": [
      "sum:  55\n"
     ]
    }
   ],
   "source": [
    "i = 1\n",
    "sum = 0\n",
    "while i <= 10:\n",
    "    sum = sum + i\n",
    "    #sum += 1\n",
    "    i = i + 1\n",
    "print('sum: ', sum)"
   ]
  },
  {
   "cell_type": "code",
   "execution_count": 7,
   "metadata": {},
   "outputs": [
    {
     "name": "stdout",
     "output_type": "stream",
     "text": [
      "sum:  55\n"
     ]
    }
   ],
   "source": [
    "# 再次使用 list \n",
    "\n",
    "i = 0\n",
    "sum = 0\n",
    "aList = list(range(1, 11)) # 將 range(1, 11) 產生的數字順序轉換為 list 型態資料\n",
    "while i <= len(aList):\n",
    "    sum = sum + i\n",
    "    i = i + 1\n",
    "print('sum: ', sum)"
   ]
  },
  {
   "cell_type": "code",
   "execution_count": 8,
   "metadata": {},
   "outputs": [
    {
     "name": "stdout",
     "output_type": "stream",
     "text": [
      "apple\n",
      "banana\n",
      "raspberry\n",
      "cherry\n"
     ]
    }
   ],
   "source": [
    "i = 0\n",
    "fruits = [\"apple\", \"banana\", \"raspberry\", \"cherry\"] # fruits 是一個 list 型別廖\n",
    "while i < len(fruits):\n",
    "    print(fruits[i])\n",
    "    i = i + 1"
   ]
  },
  {
   "cell_type": "code",
   "execution_count": 9,
   "metadata": {},
   "outputs": [
    {
     "name": "stdout",
     "output_type": "stream",
     "text": [
      "1 a\n",
      "2 b\n",
      "3 c\n",
      "4 d\n",
      "5 e\n"
     ]
    }
   ],
   "source": [
    "# zip 結合 list1 和 list2 串列\n",
    "list1 = [1,2,3,4,5]\n",
    "list2 = ['a','b','c','d','e']\n",
    "list3 = zip(list1,list2)\n",
    "for i,j in list3:\n",
    "    print(i,j)"
   ]
  },
  {
   "cell_type": "code",
   "execution_count": 10,
   "metadata": {},
   "outputs": [
    {
     "name": "stdout",
     "output_type": "stream",
     "text": [
      "[1]:a\n",
      "[2]:b\n",
      "[3]:c\n",
      "[4]:d\n",
      "[5]:e\n"
     ]
    }
   ],
   "source": [
    "# 再看一個 list 案例\n",
    "list1 = [1,2,3,4,5]\n",
    "str1 = 'abcde'\n",
    "list3 = zip(list1, str1)\n",
    "for i,j in list3:\n",
    "    print(f'[{i}]:{j}')"
   ]
  },
  {
   "cell_type": "code",
   "execution_count": 11,
   "metadata": {},
   "outputs": [],
   "source": [
    "aList = ['四資三A', '四資三B', '四資四A', '四資四B']\n",
    "bList = list(['四資一A', '四資一B', '四資二A', '四資二B'])\n",
    "cList = list(range(0, 100, 10))"
   ]
  },
  {
   "cell_type": "code",
   "execution_count": 12,
   "metadata": {},
   "outputs": [
    {
     "name": "stdout",
     "output_type": "stream",
     "text": [
      "['四資三A', '四資三B', '四資四A', '四資四B']\n",
      "['四資一A', '四資一B', '四資二A', '四資二B']\n",
      "[0, 10, 20, 30, 40, 50, 60, 70, 80, 90]\n"
     ]
    }
   ],
   "source": [
    "print(aList)\n",
    "print(bList)\n",
    "print(cList)"
   ]
  },
  {
   "cell_type": "code",
   "execution_count": 13,
   "metadata": {},
   "outputs": [
    {
     "name": "stdout",
     "output_type": "stream",
     "text": [
      "Yes... it is in aList!\n"
     ]
    }
   ],
   "source": [
    "if '四資四A' in aList:\n",
    "    print('Yes... it is in aList!')\n",
    "else:\n",
    "    print('No, it is not')"
   ]
  },
  {
   "cell_type": "code",
   "execution_count": 14,
   "metadata": {},
   "outputs": [],
   "source": [
    "#append(): 新增元素\n",
    "#insert(): 新增元素到指定位置\n",
    "\n",
    "# 新增元素\n",
    "aList.append('資四F')\n",
    "# 新增元素到指定位置\n",
    "aList.insert(0, '四資一A')\n",
    "# remove() 移除元素\n",
    "aList.remove('資四F')"
   ]
  },
  {
   "cell_type": "code",
   "execution_count": 15,
   "metadata": {},
   "outputs": [
    {
     "name": "stdout",
     "output_type": "stream",
     "text": [
      "資四F\n",
      "['四資一A', '四資三A', '四資三B', '四資四A', '四資四B']\n"
     ]
    }
   ],
   "source": [
    "# pop() 移除元素\n",
    "tmp = aList.pop()\n",
    "print(tmp)\n",
    "print(aList)"
   ]
  },
  {
   "cell_type": "code",
   "execution_count": 16,
   "metadata": {},
   "outputs": [],
   "source": [
    "# 移除元素\n",
    "del aList[0]\n",
    "# 移除元素\n",
    "#aList.clear()"
   ]
  },
  {
   "cell_type": "code",
   "execution_count": 17,
   "metadata": {},
   "outputs": [
    {
     "name": "stdout",
     "output_type": "stream",
     "text": [
      "四資一A\n",
      "四資一B\n",
      "四資二A\n",
      "四資二B\n"
     ]
    }
   ],
   "source": [
    "for i in bList:\n",
    "    print(i)"
   ]
  },
  {
   "cell_type": "code",
   "execution_count": 18,
   "metadata": {},
   "outputs": [
    {
     "name": "stdout",
     "output_type": "stream",
     "text": [
      "id[0]:四資一A\n",
      "id[1]:四資一B\n",
      "id[2]:四資二A\n",
      "id[3]:四資二B\n"
     ]
    }
   ],
   "source": [
    "for i, item in enumerate(bList):\n",
    "    print(f'id[{i}]:{item}')"
   ]
  },
  {
   "cell_type": "code",
   "execution_count": 19,
   "metadata": {},
   "outputs": [
    {
     "data": {
      "text/plain": [
       "['四資三A', '四資三B', '四資四A', '四資四B']"
      ]
     },
     "execution_count": 19,
     "metadata": {},
     "output_type": "execute_result"
    }
   ],
   "source": [
    "#拷貝串列\n",
    "aList_2 = aList.copy()\n",
    "aList_2"
   ]
  },
  {
   "cell_type": "code",
   "execution_count": 20,
   "metadata": {},
   "outputs": [],
   "source": [
    "#原始方法 - +\n",
    "\n",
    "# 串列合併 - 使用 append()\n",
    "aList.append(bList)\n",
    "# 串列合併 - 使用 extend()\n",
    "aList.extend(bList)"
   ]
  },
  {
   "cell_type": "code",
   "execution_count": 21,
   "metadata": {},
   "outputs": [
    {
     "name": "stdout",
     "output_type": "stream",
     "text": [
      "使用shuffle前: [0, 10, 20, 30, 40, 50, 60, 70, 80, 90]\n",
      "使用shuffle後: [90, 80, 30, 10, 20, 40, 70, 50, 60, 0]\n"
     ]
    }
   ],
   "source": [
    "#shuffle a list (list 元素洗牌)\n",
    "import random\n",
    "print('使用shuffle前:', cList)\n",
    "random.shuffle(cList)\n",
    "print('使用shuffle後:', cList)"
   ]
  },
  {
   "cell_type": "code",
   "execution_count": 22,
   "metadata": {},
   "outputs": [],
   "source": [
    "#sort(): 使用 sort() 排序改變原有的串列內容\n",
    "#sorted(): sorted() 排序不會改變原有的串列內容\n",
    "cList2 = cList.copy()"
   ]
  },
  {
   "cell_type": "code",
   "execution_count": 23,
   "metadata": {},
   "outputs": [
    {
     "name": "stdout",
     "output_type": "stream",
     "text": [
      "[0, 10, 20, 30, 40, 50, 60, 70, 80, 90]\n"
     ]
    }
   ],
   "source": [
    "cList.sort()\n",
    "print(cList)"
   ]
  },
  {
   "cell_type": "code",
   "execution_count": 24,
   "metadata": {},
   "outputs": [
    {
     "name": "stdout",
     "output_type": "stream",
     "text": [
      "[90, 80, 70, 60, 50, 40, 30, 20, 10, 0]\n"
     ]
    }
   ],
   "source": [
    "cList.sort(reverse=True) # 以 ascending 設定排序由大到小或由小到大\n",
    "print(cList)"
   ]
  },
  {
   "cell_type": "code",
   "execution_count": 25,
   "metadata": {},
   "outputs": [
    {
     "data": {
      "text/plain": [
       "[90, 80, 70, 60, 50, 40, 30, 20, 10, 0]"
      ]
     },
     "execution_count": 25,
     "metadata": {},
     "output_type": "execute_result"
    }
   ],
   "source": [
    "sorted(cList2, reverse=True)"
   ]
  },
  {
   "cell_type": "code",
   "execution_count": 26,
   "metadata": {},
   "outputs": [
    {
     "data": {
      "text/plain": [
       "['四資二B', '四資二A', '四資一B', '四資一A']"
      ]
     },
     "execution_count": 26,
     "metadata": {},
     "output_type": "execute_result"
    }
   ],
   "source": [
    "bList.sort(reverse=True)\n",
    "bList"
   ]
  },
  {
   "cell_type": "markdown",
   "metadata": {},
   "source": [
    "Tuple 可以翻譯為'元組'，但習慣上我還是稱為 Tuple\n",
    "跟 list 很像，但是我們不能新增，刪除或者更新 tuple 的元素\n",
    "建立時使用 () 小括號或者使用 tuple() 函數轉換既有的 list"
   ]
  },
  {
   "cell_type": "code",
   "execution_count": 27,
   "metadata": {},
   "outputs": [],
   "source": [
    "team_name = \"Chicago Bulls\"\n",
    "wins = 72\n",
    "losses = 10\n",
    "win_percentage = wins / (wins + losses)\n",
    "is_champion = True\n",
    "\n",
    "chicago_bulls_list = [team_name, wins, losses, win_percentage, is_champion]\n",
    "chicago_bulls_tuple = (team_name, wins, losses, win_percentage, is_champion)\n",
    "# chicago_bulls_tuple = tuple(chicago_bulls_list) # 將串列 list 轉換為 tuple"
   ]
  },
  {
   "cell_type": "code",
   "execution_count": 28,
   "metadata": {},
   "outputs": [],
   "source": [
    "# 其它建立 List的方式\n",
    "aTuple = ('四資三A', '四資三B', '四資四A', '四資四B')\n",
    "bTuple = tuple(['四資一A', '四資一B', '四資二A', '四資二B'])\n",
    "cTuple = tuple(range(0, 100, 10))"
   ]
  },
  {
   "cell_type": "code",
   "execution_count": 29,
   "metadata": {},
   "outputs": [
    {
     "data": {
      "text/plain": [
       "(90, 80, 70, 60, 50)"
      ]
     },
     "execution_count": 29,
     "metadata": {},
     "output_type": "execute_result"
    }
   ],
   "source": [
    "cTuple[::-1][0:5]"
   ]
  },
  {
   "cell_type": "code",
   "execution_count": 30,
   "metadata": {},
   "outputs": [
    {
     "name": "stdout",
     "output_type": "stream",
     "text": [
      "四資一A\n",
      "四資一B\n",
      "四資二A\n",
      "四資二B\n"
     ]
    }
   ],
   "source": [
    "for i in bTuple:\n",
    "    print(i)"
   ]
  },
  {
   "cell_type": "code",
   "execution_count": 31,
   "metadata": {},
   "outputs": [
    {
     "name": "stdout",
     "output_type": "stream",
     "text": [
      "id[0]:四資一A\n",
      "id[1]:四資一B\n",
      "id[2]:四資二A\n",
      "id[3]:四資二B\n"
     ]
    }
   ],
   "source": [
    "for i, item in enumerate(bTuple):\n",
    "    print(f'id[{i}]:{item}')"
   ]
  },
  {
   "cell_type": "code",
   "execution_count": 32,
   "metadata": {},
   "outputs": [
    {
     "name": "stdout",
     "output_type": "stream",
     "text": [
      "cList:  [90, 80, 70, 60, 50, 40, 30, 20, 10, 0]\n",
      "cTuple:  (0, 10, 20, 30, 40, 50, 60, 70, 80, 90)\n",
      "cTuple_to_list:  [0, 10, 20, 30, 40, 50, 60, 70, 80, 90]\n"
     ]
    }
   ],
   "source": [
    "#Tuple 不能新增、刪除、更新或拷貝\n",
    "#但是，假若你真的想要改變 tuple 的元素內容，你可以 (1)將 tuple 轉換為 list；(2)改變 list；(3)再轉換回 tuple\n",
    "print('cList: ', cList)\n",
    "print('cTuple: ', cTuple)\n",
    "cTuple_to_list = list(cTuple)\n",
    "print('cTuple_to_list: ', cTuple_to_list)\n"
   ]
  },
  {
   "cell_type": "code",
   "execution_count": 33,
   "metadata": {},
   "outputs": [
    {
     "name": "stdout",
     "output_type": "stream",
     "text": [
      "cTuple_to_list:  [100, 10, 20, 30, 40, 50, 60, 70, 80, 90]\n"
     ]
    }
   ],
   "source": [
    "# 將 cTuple_to_list[0] 更改為 100\n",
    "cTuple_to_list[0] = 100\n",
    "print('cTuple_to_list: ', cTuple_to_list)"
   ]
  },
  {
   "cell_type": "code",
   "execution_count": 34,
   "metadata": {},
   "outputs": [
    {
     "name": "stdout",
     "output_type": "stream",
     "text": [
      "cTuple2:  (100, 10, 20, 30, 40, 50, 60, 70, 80, 90)\n"
     ]
    }
   ],
   "source": [
    "# 再將 cTuple_to_list 轉換為 tuple\n",
    "cTuple2 = tuple(cTuple_to_list)\n",
    "print('cTuple2: ', cTuple2)"
   ]
  },
  {
   "cell_type": "code",
   "execution_count": 35,
   "metadata": {},
   "outputs": [
    {
     "name": "stdout",
     "output_type": "stream",
     "text": [
      "{'team_name': 'Chicago Bulls', 'wins': 72, 'losses': 10, 'win_percentage': 0.8780487804878049, 'is_champion': True}\n"
     ]
    }
   ],
   "source": [
    "team_name = \"Chicago Bulls\"\n",
    "wins = 72\n",
    "losses = 10\n",
    "win_percentage = wins / (wins + losses)\n",
    "is_champion = True\n",
    "\n",
    "chicago_bulls = {\n",
    "    \"team_name\": team_name,\n",
    "    \"wins\": wins,\n",
    "    \"losses\": losses,\n",
    "    \"win_percentage\": win_percentage,\n",
    "    \"is_champion\": is_champion\n",
    "}\n",
    "print(chicago_bulls)"
   ]
  },
  {
   "cell_type": "code",
   "execution_count": 36,
   "metadata": {},
   "outputs": [
    {
     "name": "stdout",
     "output_type": "stream",
     "text": [
      "{'brand': 'VW', 'model': 'Caddy', 'year': 2018}\n"
     ]
    }
   ],
   "source": [
    "# 建立一個資料字典 aCar\n",
    "aCar = {\n",
    "    'brand': 'VW',\n",
    "    'model': 'Caddy',\n",
    "    'year': 2018\n",
    "}\n",
    "print(aCar)"
   ]
  },
  {
   "cell_type": "code",
   "execution_count": 37,
   "metadata": {},
   "outputs": [
    {
     "name": "stdout",
     "output_type": "stream",
     "text": [
      "Chicago Bulls 72 10\n"
     ]
    }
   ],
   "source": [
    "c1 = chicago_bulls['team_name'] # 取用鍵值是 'team_name'的內容\n",
    "c2 = chicago_bulls['wins']      # 取用鍵值是 'wins'的內容\n",
    "c3 = chicago_bulls['losses']    # 取用鍵值是 'losses'的內容\n",
    "print(c1, c2, c3)"
   ]
  },
  {
   "cell_type": "code",
   "execution_count": 38,
   "metadata": {},
   "outputs": [
    {
     "name": "stdout",
     "output_type": "stream",
     "text": [
      "{'brand': 'VW', 'model': 'Caddy', 'year': 2020}\n"
     ]
    }
   ],
   "source": [
    "# 改變鍵值 'year' 的值\n",
    "aCar['year'] = 2020\n",
    "print(aCar)"
   ]
  },
  {
   "cell_type": "code",
   "execution_count": 39,
   "metadata": {},
   "outputs": [
    {
     "name": "stdout",
     "output_type": "stream",
     "text": [
      "team_name\n",
      "wins\n",
      "losses\n",
      "win_percentage\n",
      "is_champion\n"
     ]
    }
   ],
   "source": [
    "# 走訪每一個 chicago_bulls 字典的鍵\n",
    "for item in chicago_bulls:\n",
    "    print(item)\n"
   ]
  },
  {
   "cell_type": "code",
   "execution_count": 40,
   "metadata": {},
   "outputs": [
    {
     "name": "stdout",
     "output_type": "stream",
     "text": [
      "team_name: Chicago Bulls\n",
      "wins: 72\n",
      "losses: 10\n",
      "win_percentage: 0.8780487804878049\n",
      "is_champion: True\n"
     ]
    }
   ],
   "source": [
    "# 走訪每一個 chicago_bulls 字典的鍵和對應的值\n",
    "for key, value in chicago_bulls.items():\n",
    "    print(f'{key}: {value}')"
   ]
  },
  {
   "cell_type": "code",
   "execution_count": 41,
   "metadata": {},
   "outputs": [
    {
     "name": "stdout",
     "output_type": "stream",
     "text": [
      "Yes, is_champion key is in the dictionary\n"
     ]
    }
   ],
   "source": [
    "# 檢查鍵是否存在\n",
    "if 'is_champion' in chicago_bulls:\n",
    "    print('Yes, is_champion key is in the dictionary')"
   ]
  },
  {
   "cell_type": "code",
   "execution_count": 42,
   "metadata": {},
   "outputs": [
    {
     "data": {
      "text/plain": [
       "5"
      ]
     },
     "execution_count": 42,
     "metadata": {},
     "output_type": "execute_result"
    }
   ],
   "source": [
    "len(chicago_bulls)"
   ]
  },
  {
   "cell_type": "code",
   "execution_count": 43,
   "metadata": {},
   "outputs": [
    {
     "name": "stdout",
     "output_type": "stream",
     "text": [
      "{'brand': 'VW', 'model': 'Caddy', 'year': 2020, 'price': 1200000}\n"
     ]
    }
   ],
   "source": [
    "# 新增字典內容項目\n",
    "aCar['price'] = 1200000\n",
    "print(aCar)"
   ]
  },
  {
   "cell_type": "code",
   "execution_count": 44,
   "metadata": {},
   "outputs": [
    {
     "data": {
      "text/plain": [
       "True"
      ]
     },
     "execution_count": 44,
     "metadata": {},
     "output_type": "execute_result"
    }
   ],
   "source": [
    "# 移除鍵值是 'is_champion' 的元素\n",
    "chicago_bulls.pop('is_champion')"
   ]
  },
  {
   "cell_type": "code",
   "execution_count": 45,
   "metadata": {},
   "outputs": [
    {
     "data": {
      "text/plain": [
       "('win_percentage', 0.8780487804878049)"
      ]
     },
     "execution_count": 45,
     "metadata": {},
     "output_type": "execute_result"
    }
   ],
   "source": [
    "# 移除資料字典的最後一個元素\n",
    "chicago_bulls.popitem()"
   ]
  },
  {
   "cell_type": "code",
   "execution_count": 46,
   "metadata": {},
   "outputs": [
    {
     "data": {
      "text/plain": [
       "{'team_name': 'Chicago Bulls', 'losses': 10}"
      ]
     },
     "execution_count": 46,
     "metadata": {},
     "output_type": "execute_result"
    }
   ],
   "source": [
    "# 移除鍵值是 'wins' 的元素\n",
    "del chicago_bulls['wins']\n",
    "chicago_bulls"
   ]
  },
  {
   "cell_type": "code",
   "execution_count": 47,
   "metadata": {},
   "outputs": [],
   "source": [
    "# 清空 chicago_bulls 資料字典\n",
    "chicago_bulls.clear()"
   ]
  },
  {
   "cell_type": "code",
   "execution_count": 48,
   "metadata": {},
   "outputs": [
    {
     "name": "stdout",
     "output_type": "stream",
     "text": [
      "dict_items([('brand', 'VW'), ('model', 'Caddy'), ('year', 2020), ('price', 1200000)])\n",
      "dict_keys(['brand', 'model', 'year', 'price'])\n",
      "dict_values(['VW', 'Caddy', 2020, 1200000])\n"
     ]
    }
   ],
   "source": [
    "print(aCar.items())\n",
    "print(aCar.keys())\n",
    "print(aCar.values())"
   ]
  },
  {
   "cell_type": "code",
   "execution_count": null,
   "metadata": {},
   "outputs": [],
   "source": []
  }
 ],
 "metadata": {
  "kernelspec": {
   "display_name": "Python 3",
   "language": "python",
   "name": "python3"
  },
  "language_info": {
   "codemirror_mode": {
    "name": "ipython",
    "version": 3
   },
   "file_extension": ".py",
   "mimetype": "text/x-python",
   "name": "python",
   "nbconvert_exporter": "python",
   "pygments_lexer": "ipython3",
   "version": "3.7.4"
  }
 },
 "nbformat": 4,
 "nbformat_minor": 2
}
