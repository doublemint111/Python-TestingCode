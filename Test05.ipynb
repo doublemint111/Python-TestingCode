{
 "cells": [
  {
   "cell_type": "code",
   "execution_count": 2,
   "metadata": {},
   "outputs": [],
   "source": [
    "# 讀入 pandas 套件\n",
    "import pandas as pd\n",
    "import numpy as np"
   ]
  },
  {
   "cell_type": "markdown",
   "metadata": {},
   "source": [
    "1. 在 Workshop 1 讀取後的 chipotle 資料框，其中的 `item_price` 欄位有一個 `$` 符號，此欄位被視為字串 (str) 型態，所以無法作數值計算。請單獨取出 item_price 欄位成為一個名為 price 的 Series，再請將此欄位的 `$` 去除，並轉換為 float 資料型態。"
   ]
  },
  {
   "cell_type": "code",
   "execution_count": 3,
   "metadata": {},
   "outputs": [],
   "source": [
    "url = 'https://raw.githubusercontent.com/justmarkham/DAT8/master/data/chipotle.tsv'\n",
    "chipotle = pd.read_csv(url, sep='\\t')\n",
    "chipotle.head()\n",
    "price = [float(value[1:-1]) for value in chipotle.item_price]"
   ]
  },
  {
   "cell_type": "markdown",
   "metadata": {},
   "source": [
    "2. 請再將 price 取代 chipotle 的 item_price 欄位"
   ]
  },
  {
   "cell_type": "code",
   "execution_count": null,
   "metadata": {},
   "outputs": [],
   "source": [
    "chipotle.item_price = price"
   ]
  },
  {
   "cell_type": "markdown",
   "metadata": {},
   "source": [
    "3. 請計算 chipotle 前 10 筆資料的 item_price 的加總、平均值、最大值、最小值和標準差"
   ]
  },
  {
   "cell_type": "code",
   "execution_count": null,
   "metadata": {},
   "outputs": [],
   "source": [
    "print(chipotle.item_price[0:10].sum())\n",
    "print(chipotle.item_price[0:10].mean())\n",
    "print(chipotle.item_price[0:10].max())\n",
    "print(chipotle.item_price[0:10].min())\n",
    "print(chipotle.item_price[0:10].std())"
   ]
  },
  {
   "cell_type": "code",
   "execution_count": 5,
   "metadata": {},
   "outputs": [
    {
     "data": {
      "text/plain": [
       "['1$', '2$', '3$', '4$', '5$', '6$']"
      ]
     },
     "execution_count": 5,
     "metadata": {},
     "output_type": "execute_result"
    }
   ],
   "source": [
    "# 7-4 Solution: 請把[1,2,3,4,5,6] 變成 ['1$','2$','3$','4$','5$','6$']\n",
    "list1 = [1,2,3,4,5,6]\n",
    "list2 = []\n",
    "for i in list1:\n",
    "    list2.append(str(i)+'$')\n",
    "list2"
   ]
  },
  {
   "cell_type": "code",
   "execution_count": 6,
   "metadata": {},
   "outputs": [
    {
     "data": {
      "text/plain": [
       "[1, 2, 3, 4, 5, 6]"
      ]
     },
     "execution_count": 6,
     "metadata": {},
     "output_type": "execute_result"
    }
   ],
   "source": [
    "# 7-5 Solution: 請把['1$','2$','3$','4$','5$','6$'] 還原為 [1,2,3,4,5,6]\n",
    "list3 = []\n",
    "for i in list2:\n",
    "    i = i.replace('$', '')\n",
    "    list3.append(int(i))\n",
    "list3"
   ]
  },
  {
   "cell_type": "code",
   "execution_count": 7,
   "metadata": {},
   "outputs": [
    {
     "name": "stdout",
     "output_type": "stream",
     "text": [
      "id[0]:A few good man\n",
      "id[1]:shawshank redemption\n",
      "id[2]:mission to mars\n"
     ]
    }
   ],
   "source": [
    "# 7-6 Solution: 請將串列 ['A few good man', 'shawshank redemption', 'mission to mars']，利用 zip() 函式顯示如下:\n",
    "#        0 A few good man\n",
    "#        1 shawshank redemption\n",
    "#        2 mission to mars\n",
    "movies = ['A few good man', 'shawshank redemption', 'mission to mars']\n",
    "id_movies = range(len(movies))\n",
    "for i, c in zip(id_movies, movies):\n",
    "    print(f'id[{i}]:{c}')"
   ]
  },
  {
   "cell_type": "code",
   "execution_count": 8,
   "metadata": {},
   "outputs": [
    {
     "name": "stdout",
     "output_type": "stream",
     "text": [
      "Company_1\n",
      "Company_2\n",
      "Company_3\n"
     ]
    }
   ],
   "source": [
    "# 7-3 Solution: 請將['Company 1', 'Company 2', 'Company 3']串列轉變為['Company_1', 'Company_2', 'Company_3']\n",
    "x = ['Company 1', 'Company 2', 'Company 3']\n",
    "for item in x:\n",
    "    item = item.replace(' ', '_')\n",
    "    print(item)"
   ]
  },
  {
   "cell_type": "code",
   "execution_count": 9,
   "metadata": {},
   "outputs": [
    {
     "data": {
      "text/plain": [
       "[18, 15, 12, 9, 6, 3, 0]"
      ]
     },
     "execution_count": 9,
     "metadata": {},
     "output_type": "execute_result"
    }
   ],
   "source": [
    "# 7-2 Solution: 請做出串列 [0,3,6,9,12,15,18]的反轉順序[18,15,12,9,6,3,0]\n",
    "aList = list(range(0, 19, 3))\n",
    "aList[::-1]"
   ]
  },
  {
   "cell_type": "code",
   "execution_count": 10,
   "metadata": {},
   "outputs": [],
   "source": [
    "# 9-1 Solution: 請建立一個資料字典，名稱 pm25，內含台灣六都的 PM2.5 數值，例如 台北市: 20 新北市: 25  桃園市: 32 台中市: 39 台南市: 45 高雄市: 50\n",
    "\n",
    "pm25 = {\n",
    "    '台北市': 20,\n",
    "    '新北市': 25,\n",
    "    '桃園市': 32,\n",
    "    '台中市': 39,\n",
    "    '台南市': 45,\n",
    "    '高雄市': 50\n",
    "}"
   ]
  },
  {
   "cell_type": "code",
   "execution_count": 11,
   "metadata": {},
   "outputs": [
    {
     "data": {
      "text/plain": [
       "45"
      ]
     },
     "execution_count": 11,
     "metadata": {},
     "output_type": "execute_result"
    }
   ],
   "source": [
    "# 9-2 Solution: 請查詢台南市的 PM2.5 數值\n",
    "pm25['台南市']"
   ]
  },
  {
   "cell_type": "code",
   "execution_count": 13,
   "metadata": {},
   "outputs": [],
   "source": [
    "# 9-3 Solution: \n",
    "forever = 'Forever we remain oblivious to the future, \\\n",
    "lost to the past and enduring our torture. \\\n",
    "Forever we take chances to settle our scores, \\\n",
    "losing some battles and winning some wars.'\n",
    "\n",
    "# 使用 split() 分解 'forever' 字彙\n",
    "ls = forever.split()\n",
    "\n",
    "# 使用 set() 算出共有幾個不同的字彙，並存到 keys 變數\n",
    "keys = set(ls)\n",
    "\n",
    "# 建立資料字典 dict1，鍵值是 keys 的元素，其值暫為 0\n",
    "dict1 = {}\n",
    "for key in keys:\n",
    "    dict1[key] = 0\n",
    "\n",
    "# 利用迴圈對應鍵值，對應上鍵值每次將其值加 1\n",
    "for item in ls:\n",
    "    if (item in keys):\n",
    "        dict1[item] = dict1[item] + 1"
   ]
  },
  {
   "cell_type": "markdown",
   "metadata": {},
   "source": [
    "#  NumPy"
   ]
  },
  {
   "cell_type": "code",
   "execution_count": 10,
   "metadata": {},
   "outputs": [
    {
     "name": "stdout",
     "output_type": "stream",
     "text": [
      "list1:  [27, -1, 10, 39, 29, 19]\n",
      "type(list1):  <class 'list'>\n"
     ]
    }
   ],
   "source": [
    "# 如果你有一個名為 list1 的 list 物件，共有 6 個元素，分別存放資料如下:\n",
    "import random\n",
    "import numpy as np\n",
    "list1 = random.sample(range(-5, 40), 6)\n",
    "print('list1: ', list1)\n",
    "print('type(list1): ', type(list1))"
   ]
  },
  {
   "cell_type": "code",
   "execution_count": 3,
   "metadata": {},
   "outputs": [
    {
     "data": {
      "text/plain": [
       "[37, 39, 32, 49, 34, 38, 13, 5, 84, 59]"
      ]
     },
     "execution_count": 3,
     "metadata": {},
     "output_type": "execute_result"
    }
   ],
   "source": [
    "a = range(0, 100)\n",
    "random.sample(a, 10)"
   ]
  },
  {
   "cell_type": "code",
   "execution_count": 4,
   "metadata": {},
   "outputs": [
    {
     "name": "stdout",
     "output_type": "stream",
     "text": [
      "轉換後的華氏溫度:  [53.6, 82.4, 91.4, 46.4, 60.8, 39.2]\n"
     ]
    }
   ],
   "source": [
    "# 1) 利用 for loop\n",
    "degree = []\n",
    "for c in list1:\n",
    "    f = (c * 9)/5 + 32\n",
    "    degree.append(f)\n",
    "print('轉換後的華氏溫度: ',  degree)"
   ]
  },
  {
   "cell_type": "code",
   "execution_count": 5,
   "metadata": {},
   "outputs": [
    {
     "name": "stdout",
     "output_type": "stream",
     "text": [
      "轉換後的華氏溫度:  [53.6, 82.4, 91.4, 46.4, 60.8, 39.2]\n"
     ]
    }
   ],
   "source": [
    "# 2) 變形版的 for loop\n",
    "\n",
    "degree = [(c * 9)/5 + 32 for c in list1]\n",
    "print('轉換後的華氏溫度: ', degree)"
   ]
  },
  {
   "cell_type": "code",
   "execution_count": 6,
   "metadata": {},
   "outputs": [],
   "source": [
    "# 3) 利用函數轉換攝氏溫度至華氏\n",
    "\n",
    "def degreeConvert(cDegree):\n",
    "    fDegree = []\n",
    "    for c in cDegree:\n",
    "        f = (c * 9)/5 + 32\n",
    "        fDegree.append(f)\n",
    "    return fDegree"
   ]
  },
  {
   "cell_type": "code",
   "execution_count": 7,
   "metadata": {},
   "outputs": [
    {
     "name": "stdout",
     "output_type": "stream",
     "text": [
      "轉換後的華氏溫度:  [53.6, 82.4, 91.4, 46.4, 60.8, 39.2]\n"
     ]
    }
   ],
   "source": [
    "# 呼叫 degreConvert 函數\n",
    "fDegree = degreeConvert(list1)\n",
    "print('轉換後的華氏溫度: ', fDegree)"
   ]
  },
  {
   "cell_type": "code",
   "execution_count": 8,
   "metadata": {},
   "outputs": [
    {
     "name": "stdout",
     "output_type": "stream",
     "text": [
      "轉換後的華氏溫度:  [53.6, 82.4, 91.4, 46.4, 60.8, 39.2]\n"
     ]
    }
   ],
   "source": [
    "# 呼叫 degreConvert 函數\n",
    "fDegree = degreeConvert(list1)\n",
    "print('轉換後的華氏溫度: ', fDegree)"
   ]
  },
  {
   "cell_type": "code",
   "execution_count": null,
   "metadata": {},
   "outputs": [],
   "source": [
    "degree = []\n",
    "for c in list1:\n",
    "    degree.append(f(c)) # 呼叫 lambda f，逐筆轉換後回傳\n",
    "print(degree)"
   ]
  },
  {
   "cell_type": "code",
   "execution_count": 11,
   "metadata": {},
   "outputs": [
    {
     "name": "stdout",
     "output_type": "stream",
     "text": [
      "np1:  [1 2 3]\n",
      "<class 'numpy.ndarray'>\n"
     ]
    }
   ],
   "source": [
    "# 1)使用 np.array() 建立一個 3 個元素的 numpy 物件\n",
    "np1 = np.array([1, 2, 3])\n",
    "print('np1: ', np1)\n",
    "print(type(np1))"
   ]
  },
  {
   "cell_type": "code",
   "execution_count": 12,
   "metadata": {},
   "outputs": [
    {
     "name": "stdout",
     "output_type": "stream",
     "text": [
      "list1:  [27, -1, 10, 39, 29, 19]\n",
      "np2:  [[27 -1 10 39 29 19]]\n"
     ]
    }
   ],
   "source": [
    "# 2)從 list 轉換為 numpy array\n",
    "print('list1: ', list1)\n",
    "np2 = np.array([list1])\n",
    "print('np2: ', np2)"
   ]
  },
  {
   "cell_type": "markdown",
   "metadata": {},
   "source": [
    "NumPy Array 的屬性"
   ]
  },
  {
   "cell_type": "code",
   "execution_count": 13,
   "metadata": {},
   "outputs": [],
   "source": [
    "# 建立 3 個 Numpy array，分別是 1 維, 2 維和 3 維\n",
    "npx1 = np.random.randint(1, 11, size=6)  # 1 維 array\n",
    "npx2 = np.random.randint(1, 11, size=(3,4))  # 2 維 (3 x 4) array\n",
    "npx3 = np.random.randint(1, 11, size=(3, 4, 5))  # 3 維 (3 x 4 x 5) array"
   ]
  },
  {
   "cell_type": "code",
   "execution_count": 14,
   "metadata": {},
   "outputs": [
    {
     "name": "stdout",
     "output_type": "stream",
     "text": [
      "npx1:  [ 8  2  4 10  6  7]\n",
      "npx2: ...\n",
      "[[ 7  3  3  4]\n",
      " [ 7 10  4  6]\n",
      " [ 9  1  8  8]]\n",
      "npx3: ...\n",
      "[[[ 9 10  3  9  7]\n",
      "  [ 8  6  3  2  2]\n",
      "  [ 4 10 10 10  5]\n",
      "  [ 9  7  2  7 10]]\n",
      "\n",
      " [[ 3  9  2  8  3]\n",
      "  [ 9 10 10  6  2]\n",
      "  [ 4  8 10 10  5]\n",
      "  [ 9  9  9  4 10]]\n",
      "\n",
      " [[ 7  3  1  1  6]\n",
      "  [ 3  7  9  8  7]\n",
      "  [ 4  2  5  2  3]\n",
      "  [ 9  7  1  5  5]]]\n"
     ]
    }
   ],
   "source": [
    "print('npx1: ', npx1)\n",
    "print('npx2: ...')\n",
    "print(npx2)\n",
    "print('npx3: ...')\n",
    "print(npx3)"
   ]
  },
  {
   "cell_type": "code",
   "execution_count": 15,
   "metadata": {},
   "outputs": [
    {
     "name": "stdout",
     "output_type": "stream",
     "text": [
      "npx3.ndim:  3\n",
      "npx3.shape:  (3, 4, 5)\n",
      "npx3.size:  60\n"
     ]
    }
   ],
   "source": [
    "# 屬性 \n",
    "print('npx3.ndim: ', npx3.ndim) # npx3 維度\n",
    "print('npx3.shape: ', npx3.shape) # 各維度的大小\n",
    "print('npx3.size: ', npx3.size) # array 的元素大小"
   ]
  },
  {
   "cell_type": "code",
   "execution_count": 16,
   "metadata": {},
   "outputs": [
    {
     "name": "stdout",
     "output_type": "stream",
     "text": [
      "npx3.dtype:  int32\n",
      "npx3.itemsize:  4\n",
      "npx3.nbyes:  240\n"
     ]
    }
   ],
   "source": [
    "# 更多屬性 \n",
    "print('npx3.dtype: ', npx3.dtype) # npx3 array 的資料型態\n",
    "print('npx3.itemsize: ', npx3.itemsize) # 每一個元素佔據的記憶體大小\n",
    "print('npx3.nbyes: ', npx3.nbytes) # 總更占用的記憶體大小"
   ]
  },
  {
   "cell_type": "markdown",
   "metadata": {},
   "source": [
    "Array Indexing (索引): Accessing Single Elements (索引單一元素)"
   ]
  },
  {
   "cell_type": "code",
   "execution_count": 17,
   "metadata": {},
   "outputs": [
    {
     "name": "stdout",
     "output_type": "stream",
     "text": [
      "npx1:  [ 8  2  4 10  6  7]\n",
      "npx1[0]  8\n",
      "\n",
      "npx2: ...\n",
      "[[ 7  3  3  4]\n",
      " [ 7 10  4  6]\n",
      " [ 9  1  8  8]]\n",
      "npx2[0, 1] 3\n",
      "npx2[1, 3] 6\n"
     ]
    }
   ],
   "source": [
    "print('npx1: ', npx1)\n",
    "print('npx1[0] ', npx1[0])\n",
    "print()\n",
    "print('npx2: ...')\n",
    "print(npx2)\n",
    "print('npx2[0, 1]', npx2[0, 1]) # 第 0 列 第 1 個元素\n",
    "print('npx2[1, 3]', npx2[1, 3]) # 第 1 列 第 3 個元素"
   ]
  },
  {
   "cell_type": "code",
   "execution_count": 18,
   "metadata": {},
   "outputs": [
    {
     "name": "stdout",
     "output_type": "stream",
     "text": [
      "修改前的 npx1:  [ 8  2  4 10  6  7]\n",
      "修改後的 npx1:  [99  2  4 10  6  7]\n"
     ]
    }
   ],
   "source": [
    "# 我們也可以修改 array 內容\n",
    "print('修改前的 npx1: ', npx1)\n",
    "npx1[0] = 99\n",
    "print('修改後的 npx1: ', npx1)"
   ]
  },
  {
   "cell_type": "code",
   "execution_count": 19,
   "metadata": {},
   "outputs": [
    {
     "name": "stdout",
     "output_type": "stream",
     "text": [
      "修改前的 npx2: ...\n",
      "[[ 7  3  3  4]\n",
      " [ 7 10  4  6]\n",
      " [ 9  1  8  8]]\n",
      "\n",
      "修改後的 npx2: ...\n",
      "[[99  3  3  4]\n",
      " [ 7 10  4  6]\n",
      " [ 9  1  8  8]]\n"
     ]
    }
   ],
   "source": [
    "print('修改前的 npx2: ...')\n",
    "print(npx2)\n",
    "npx2[0, 0] = 99\n",
    "print()\n",
    "print('修改後的 npx2: ...')\n",
    "print(npx2)"
   ]
  },
  {
   "cell_type": "code",
   "execution_count": 20,
   "metadata": {},
   "outputs": [
    {
     "name": "stdout",
     "output_type": "stream",
     "text": [
      "修改前的 npx3: ...\n",
      "[[[ 9 10  3  9  7]\n",
      "  [ 8  6  3  2  2]\n",
      "  [ 4 10 10 10  5]\n",
      "  [ 9  7  2  7 10]]\n",
      "\n",
      " [[ 3  9  2  8  3]\n",
      "  [ 9 10 10  6  2]\n",
      "  [ 4  8 10 10  5]\n",
      "  [ 9  9  9  4 10]]\n",
      "\n",
      " [[ 7  3  1  1  6]\n",
      "  [ 3  7  9  8  7]\n",
      "  [ 4  2  5  2  3]\n",
      "  [ 9  7  1  5  5]]]\n",
      "\n",
      "修改後的 npx3: ...\n",
      "[[[99 10  3  9  7]\n",
      "  [ 8  6  3  2  2]\n",
      "  [ 4 10 10 10  5]\n",
      "  [ 9  7  2  7 10]]\n",
      "\n",
      " [[ 3  9  2  8  3]\n",
      "  [ 9 10 10  6  2]\n",
      "  [ 4  8 10 10  5]\n",
      "  [ 9  9  9  4 10]]\n",
      "\n",
      " [[ 7  3  1  1  6]\n",
      "  [ 3  7  9  8  7]\n",
      "  [ 4  2  5  2  3]\n",
      "  [ 9  7  1  5  5]]]\n"
     ]
    }
   ],
   "source": [
    "print('修改前的 npx3: ...')\n",
    "print(npx3)\n",
    "npx3[0, 0, 0] = 99\n",
    "print()\n",
    "print('修改後的 npx3: ...')\n",
    "print(npx3)"
   ]
  },
  {
   "cell_type": "code",
   "execution_count": 21,
   "metadata": {},
   "outputs": [
    {
     "name": "stdout",
     "output_type": "stream",
     "text": [
      "npx2: ...\n",
      "[[47  2 61 60]\n",
      " [56 27 61 98]\n",
      " [52 24 18 65]]\n",
      "------------------------------\n",
      "npx2[0:2, 0:2]...\n",
      "[[47  2]\n",
      " [56 27]]\n",
      "------------------------------\n",
      "npx2[1:3, 2:4]...\n",
      "[[61 98]\n",
      " [18 65]]\n",
      "------------------------------\n",
      "npx2[(0,2), 0:2]...\n",
      "[[47  2]\n",
      " [52 24]]\n",
      "------------------------------\n",
      "npx2[:3, :]...\n",
      "[[ 2 61 60]\n",
      " [27 61 98]]\n",
      "------------------------------\n"
     ]
    }
   ],
   "source": [
    "npx2 = np.random.randint(1, 101, size=(3, 4))\n",
    "print('npx2: ...')\n",
    "print(npx2)\n",
    "print('-'*30)\n",
    "\n",
    "print('npx2[0:2, 0:2]...') # 取出第 0 到第 1 列的第 0 到第 1 行的資料\n",
    "print(npx2[0:2, 0:2])\n",
    "print('-'*30)\n",
    "\n",
    "print('npx2[1:3, 2:4]...') # 取出第 1 到第 2 列的第 2 到第 3 行的資料\n",
    "print(npx2[1:3, 2:4])\n",
    "print('-'*30)\n",
    "\n",
    "print('npx2[(0,2), 0:2]...') # 取出第 0 和第 2 列的第 0 到第 2 行的資料\n",
    "print(npx2[(0,2), 0:2])\n",
    "print('-'*30)\n",
    "\n",
    "print('npx2[:3, :]...') # 取出第 0 至第 1 列的第 1 到最後行的資料\n",
    "print(npx2[:2, 1:])\n",
    "print('-'*30)"
   ]
  },
  {
   "cell_type": "code",
   "execution_count": 22,
   "metadata": {},
   "outputs": [
    {
     "name": "stdout",
     "output_type": "stream",
     "text": [
      "npx2: ...\n",
      "[[47  2 61 60]\n",
      " [56 27 61 98]\n",
      " [52 24 18 65]]\n",
      "------------------------------\n",
      "npx2[:, 0]:  [47 56 52]\n",
      "npx2[0, :]:  [47  2 61 60]\n",
      "npx2[1, :]:  [56 27 61 98]\n"
     ]
    }
   ],
   "source": [
    "print('npx2: ...')\n",
    "print(npx2)\n",
    "print('-'*30)\n",
    "print('npx2[:, 0]: ', npx2[:, 0]) # 單獨取出第 0 行\n",
    "print('npx2[0, :]: ', npx2[0, :]) # 單獨取出第 0 列\n",
    "print('npx2[1, :]: ', npx2[1, :]) # 單獨取出第 1 列"
   ]
  },
  {
   "cell_type": "markdown",
   "metadata": {},
   "source": [
    "NumPy array 有⼀個重要的預設特性稱為「不複製」，因此不論在切割或重新宣告的情境中都是創建陣列的 View，⽽⾮複製另⼀個陣列，這代表著對以 View 型式存在的⼦陣列（Subarray更新會改動到原始陣列)"
   ]
  },
  {
   "cell_type": "code",
   "execution_count": 23,
   "metadata": {},
   "outputs": [
    {
     "name": "stdout",
     "output_type": "stream",
     "text": [
      "npx1:  [99  2  4 10  6  7]\n",
      "------------------------------\n",
      "npx1_view = npx1[0:5]\n",
      "npx1_view:  [99  2  4 10  6]\n",
      "------------------------------\n",
      "修改為 npx1[0] = 100 ...\n",
      "修改後 npx1_view:  [100   2   4  10   6]\n",
      "即使沒有修改 npx1，但 npx1 也會跟著改變...\n",
      "npx1:  [100   2   4  10   6   7]\n"
     ]
    }
   ],
   "source": [
    "print('npx1: ', npx1)\n",
    "print('-'*30)\n",
    "\n",
    "print('npx1_view = npx1[0:5]')\n",
    "npx1_view = npx1[0:5]\n",
    "print('npx1_view: ', npx1_view)\n",
    "print('-'*30)\n",
    "print('修改為 npx1[0] = 100 ...')\n",
    "npx1_view[0] = 100\n",
    "print('修改後 npx1_view: ', npx1_view)\n",
    "print('即使沒有修改 npx1，但 npx1 也會跟著改變...')\n",
    "print('npx1: ', npx1)"
   ]
  },
  {
   "cell_type": "code",
   "execution_count": 24,
   "metadata": {},
   "outputs": [
    {
     "name": "stdout",
     "output_type": "stream",
     "text": [
      "npx2: ...\n",
      "[[47  2 61 60]\n",
      " [56 27 61 98]\n",
      " [52 24 18 65]]\n",
      "------------------------------\n",
      "拷貝 npx2 給 npx2_copy...\n",
      "npx2_copy ...\n",
      "[[47  2 61 60]\n",
      " [56 27 61 98]\n",
      " [52 24 18 65]]\n"
     ]
    }
   ],
   "source": [
    "print('npx2: ...')\n",
    "print(npx2)\n",
    "print('-'*30)\n",
    "\n",
    "print('拷貝 npx2 給 npx2_copy...')\n",
    "npx2_copy = npx2.copy()\n",
    "print('npx2_copy ...')\n",
    "print(npx2_copy)"
   ]
  },
  {
   "cell_type": "code",
   "execution_count": 25,
   "metadata": {},
   "outputs": [
    {
     "name": "stdout",
     "output_type": "stream",
     "text": [
      "npx2_copy: ...\n",
      "[[100   2  61  60]\n",
      " [ 56  27  61  98]\n",
      " [ 52  24  18  65]]\n",
      "------------------------------\n",
      "npx2: ...\n",
      "[[47  2 61 60]\n",
      " [56 27 61 98]\n",
      " [52 24 18 65]]\n"
     ]
    }
   ],
   "source": [
    "# 現在修改 npx2_copy，但不會影響 npx2，因為兩者是不同的物件\n",
    "npx2_copy[0,0] = 100\n",
    "print('npx2_copy: ...')\n",
    "print(npx2_copy)\n",
    "print('-'*30)\n",
    "\n",
    "print('npx2: ...')\n",
    "print(npx2)"
   ]
  },
  {
   "cell_type": "markdown",
   "metadata": {},
   "source": [
    "重新改變陣列維度 (Reshaping of Arrays)"
   ]
  },
  {
   "cell_type": "code",
   "execution_count": 26,
   "metadata": {},
   "outputs": [
    {
     "name": "stdout",
     "output_type": "stream",
     "text": [
      "np3:  [48  1 47  2 49 90  1 13 61 63 16 98 77 87 61 13 24 21]\n"
     ]
    }
   ],
   "source": [
    "np3 = np.random.randint(1, 101, size=18)\n",
    "print('np3: ', np3) # 1 維陣列 np3 有 18 個元素"
   ]
  },
  {
   "cell_type": "code",
   "execution_count": 27,
   "metadata": {},
   "outputs": [
    {
     "name": "stdout",
     "output_type": "stream",
     "text": [
      "np3_2d: ...\n",
      "[[48  1 47  2 49 90]\n",
      " [ 1 13 61 63 16 98]\n",
      " [77 87 61 13 24 21]]\n"
     ]
    }
   ],
   "source": [
    "# reshape np3 成為 2 維陣列\n",
    "np3_2d = np3.reshape(3, 6)\n",
    "print('np3_2d: ...') # 將 np3 陣列更改為 3 x 6 的 2 維陣列\n",
    "print(np3_2d)"
   ]
  },
  {
   "cell_type": "code",
   "execution_count": 28,
   "metadata": {},
   "outputs": [
    {
     "name": "stdout",
     "output_type": "stream",
     "text": [
      "np3_3d: ...\n",
      "[[[48  1 47]\n",
      "  [ 2 49 90]\n",
      "  [ 1 13 61]]\n",
      "\n",
      " [[63 16 98]\n",
      "  [77 87 61]\n",
      "  [13 24 21]]]\n"
     ]
    }
   ],
   "source": [
    "# reshape np3 成為 3 維陣列\n",
    "np3_3d = np3.reshape(2, 3, 3)\n",
    "print('np3_3d: ...') # 將 np3 陣列更改為 2 x 3 x 3 的 3 維陣列\n",
    "print(np3_3d)"
   ]
  },
  {
   "cell_type": "code",
   "execution_count": 29,
   "metadata": {},
   "outputs": [
    {
     "name": "stdout",
     "output_type": "stream",
     "text": [
      "z1:  [1 2 3 3 2 1]\n"
     ]
    }
   ],
   "source": [
    "# 使用 concatenate() 合併 1 維陣列\n",
    "x1 = np.array([1, 2, 3])\n",
    "y1 = np.array([3, 2, 1])\n",
    "z1 = np.concatenate([x1, y1])\n",
    "print('z1: ', z1)"
   ]
  },
  {
   "cell_type": "code",
   "execution_count": 30,
   "metadata": {},
   "outputs": [
    {
     "name": "stdout",
     "output_type": "stream",
     "text": [
      "x2...\n",
      "[[ 2  7  6]\n",
      " [ 5  5 10]]\n",
      "y2...\n",
      "[[10  7  8]\n",
      " [ 1  3  6]]\n",
      "\n"
     ]
    }
   ],
   "source": [
    "# 使用 concatenate() 合併 2 維陣列\n",
    "x2 = np.random.randint(1, 11, size=(2,3))\n",
    "y2 = np.random.randint(1, 11, size=(2,3))\n",
    "print('x2...')\n",
    "print(x2)\n",
    "print('y2...')\n",
    "print(y2)\n",
    "print()"
   ]
  },
  {
   "cell_type": "code",
   "execution_count": 31,
   "metadata": {},
   "outputs": [
    {
     "name": "stdout",
     "output_type": "stream",
     "text": [
      "z2 以 \"列\" 的方向合併...\n",
      "[[ 2  7  6]\n",
      " [ 5  5 10]\n",
      " [10  7  8]\n",
      " [ 1  3  6]]\n",
      "z3 以 \"行\" 的方向合併...\n",
      "[[ 2  7  6 10  7  8]\n",
      " [ 5  5 10  1  3  6]]\n"
     ]
    }
   ],
   "source": [
    "z2 = np.concatenate([x2, y2], axis=0) # 以 \"列\" 的方向合併\n",
    "print('z2 以 \"列\" 的方向合併...')\n",
    "print(z2)\n",
    "\n",
    "z3 = np.concatenate([x2, y2], axis=1) # 以 \"行\" 的方向合併\n",
    "print('z3 以 \"行\" 的方向合併...')\n",
    "print(z3)"
   ]
  },
  {
   "cell_type": "markdown",
   "metadata": {},
   "source": [
    "若兩個 arrays 的維度不一致，可使用 vstack() 或 hstack() 處理"
   ]
  },
  {
   "cell_type": "code",
   "execution_count": 32,
   "metadata": {},
   "outputs": [
    {
     "name": "stdout",
     "output_type": "stream",
     "text": [
      "x1:  [1 2 3]\n",
      "y1: ... \n",
      "[[4 5 6]\n",
      " [7 8 9]]\n"
     ]
    }
   ],
   "source": [
    "# x1 是 1 維陣列； y1 是 2 維陣列\n",
    "x1 = np.array([1, 2, 3])\n",
    "y1 = np.array([[4, 5, 6], [7, 8, 9]])\n",
    "\n",
    "print('x1: ', x1)\n",
    "print('y1: ... ')\n",
    "print(y1)"
   ]
  },
  {
   "cell_type": "code",
   "execution_count": 33,
   "metadata": {},
   "outputs": [
    {
     "name": "stdout",
     "output_type": "stream",
     "text": [
      "np.vstack([x1, y1])...\n",
      "[[1 2 3]\n",
      " [4 5 6]\n",
      " [7 8 9]]\n",
      "------------------------------\n",
      "x1: ...\n",
      "[[1]\n",
      " [2]]\n",
      "y1: ... \n",
      "[[4 5 6]\n",
      " [7 8 9]]\n",
      "np.hstack([x1, y1])...\n",
      "[[1 4 5 6]\n",
      " [2 7 8 9]]\n"
     ]
    }
   ],
   "source": [
    "#使用 vstack() 將 x1 和 y1 以 \"列\" 的方向合併\n",
    "print('np.vstack([x1, y1])...')\n",
    "print(np.vstack([x1, y1]))\n",
    "print('-'*30)\n",
    "\n",
    "x1 = np.array([[1],[2]])\n",
    "print('x1: ...')\n",
    "print(x1)\n",
    "print('y1: ... ')\n",
    "print(y1)\n",
    "# 使用 vstack() 將 x1 和 y1 以 \"列\" 的方向合併\n",
    "print('np.hstack([x1, y1])...')\n",
    "print(np.hstack([x1, y1]))\n"
   ]
  },
  {
   "cell_type": "markdown",
   "metadata": {},
   "source": [
    "陣列的分割 (Splitting of Array)\n",
    "陣列的分割可選擇以 \"列\" 的方向分割，或選擇以 \"行\" 的方向分割\n",
    "\n",
    "np.split()\n",
    "np.vsplit()\n",
    "np.hsplit()"
   ]
  },
  {
   "cell_type": "code",
   "execution_count": 34,
   "metadata": {},
   "outputs": [
    {
     "name": "stdout",
     "output_type": "stream",
     "text": [
      "arr:  [ 1  2  3  4  5  6  7  8  9 10]\n",
      "arr0:  [1 2 3]\n",
      "arr1:  [4 5 6 7]\n",
      "arr2:  [ 8  9 10]\n"
     ]
    }
   ],
   "source": [
    "# 一維陣列的分割\n",
    "arrd1 = np.arange(1, 11) \n",
    "print('arr: ', arrd1)\n",
    "\n",
    "# 分割 arrd1 成為 3 個 subarrays, arr0, arr1, arr2\n",
    "# arr0=arrd[0, 2]; arr1=[3, 5]; arr2[5, :]\n",
    "#arr0, arr1, arr2= np.split(arrd1, [2, 5])\n",
    "arr0, arr1, arr2= np.split(arrd1, [3, 7])\n",
    "print('arr0: ', arr0)\n",
    "print('arr1: ', arr1)\n",
    "print('arr2: ', arr2)"
   ]
  },
  {
   "cell_type": "code",
   "execution_count": 35,
   "metadata": {},
   "outputs": [
    {
     "name": "stdout",
     "output_type": "stream",
     "text": [
      "arrd2: ...\n",
      "[[ 1  2  3  4]\n",
      " [ 5  6  7  8]\n",
      " [ 9 10 11 12]\n",
      " [13 14 15 16]]\n",
      "upper: ...\n",
      "[[1 2 3 4]\n",
      " [5 6 7 8]]\n",
      "lower: ...\n",
      "[[ 9 10 11 12]\n",
      " [13 14 15 16]]\n",
      "lpart: ...\n",
      "[[ 1  2]\n",
      " [ 5  6]\n",
      " [ 9 10]\n",
      " [13 14]]\n",
      "rpart: ...\n",
      "[[ 3  4]\n",
      " [ 7  8]\n",
      " [11 12]\n",
      " [15 16]]\n"
     ]
    }
   ],
   "source": [
    "# 二維陣列的分割\n",
    "arrd2 = np.arange(1, 17).reshape(4,4)\n",
    "print('arrd2: ...')\n",
    "print(arrd2)\n",
    "\n",
    "# 垂直分割 arrd2 成為 upper 及 lower\n",
    "# upper=arrd2[0:2]; lower=arrd2[2:4, :]\n",
    "upper, lower = np.vsplit(arrd2, 2)\n",
    "print('upper: ...')\n",
    "print(upper)\n",
    "print('lower: ...')\n",
    "print(lower)\n",
    "\n",
    "# 水平分割 arrd2 成為 lpart 及 rpart\n",
    "lpart, rpart = np.hsplit(arrd2, 2)\n",
    "print('lpart: ...')\n",
    "print(lpart)\n",
    "print('rpart: ...')\n",
    "print(rpart)"
   ]
  },
  {
   "cell_type": "code",
   "execution_count": 36,
   "metadata": {},
   "outputs": [
    {
     "name": "stdout",
     "output_type": "stream",
     "text": [
      "[0 0 0 0 0 0 0 0 0 0]\n"
     ]
    }
   ],
   "source": [
    "# Create a length-10 integer array filled with zeros\n",
    "zero = np.zeros(10, dtype=int)\n",
    "print(zero)"
   ]
  },
  {
   "cell_type": "code",
   "execution_count": 37,
   "metadata": {},
   "outputs": [
    {
     "name": "stdout",
     "output_type": "stream",
     "text": [
      "[[1. 1. 1. 1. 1.]\n",
      " [1. 1. 1. 1. 1.]\n",
      " [1. 1. 1. 1. 1.]]\n"
     ]
    }
   ],
   "source": [
    "# Create a 3x5 floating-point array filled with ones\n",
    "ones = np.ones((3, 5), dtype=float)\n",
    "print(ones)"
   ]
  },
  {
   "cell_type": "code",
   "execution_count": 38,
   "metadata": {},
   "outputs": [
    {
     "name": "stdout",
     "output_type": "stream",
     "text": [
      "np.arange(0, 20, 2):  [ 0  2  4  6  8 10 12 14 16 18]\n",
      "type:  <class 'numpy.ndarray'>\n",
      "------------------------------\n",
      "range(0, 20, 2):  [0, 2, 4, 6, 8, 10, 12, 14, 16, 18]\n",
      "type:  <class 'range'>\n"
     ]
    }
   ],
   "source": [
    "# Create an array filled with a linear sequence\n",
    "# Starting at 0, ending at 20, stepping by 2\n",
    "# (this is similar to the built-in range() function)\n",
    "npArange = np.arange(0, 20, 2)\n",
    "print('np.arange(0, 20, 2): ', npArange)\n",
    "print('type: ', type(npArange))\n",
    "print('-'*30)\n",
    "\n",
    "pRange = range(0, 20, 2)\n",
    "print('range(0, 20, 2): ', list(pRange))\n",
    "print('type: ', type(pRange))"
   ]
  },
  {
   "cell_type": "code",
   "execution_count": 39,
   "metadata": {},
   "outputs": [
    {
     "data": {
      "text/plain": [
       "array([0.  , 0.25, 0.5 , 0.75, 1.  ])"
      ]
     },
     "execution_count": 39,
     "metadata": {},
     "output_type": "execute_result"
    }
   ],
   "source": [
    "# Create an array of five values evenly spaced between 0 and 1\n",
    "np.linspace(0, 1, 5)"
   ]
  },
  {
   "cell_type": "code",
   "execution_count": 40,
   "metadata": {},
   "outputs": [
    {
     "data": {
      "text/plain": [
       "array([[0.71820992, 0.39618105, 0.85943444],\n",
       "       [0.95318482, 0.55878441, 0.63534421],\n",
       "       [0.55652679, 0.76146583, 0.46029553]])"
      ]
     },
     "execution_count": 40,
     "metadata": {},
     "output_type": "execute_result"
    }
   ],
   "source": [
    "# Create a 3x3 array of uniformly distributed\n",
    "# random values between 0 and 1\n",
    "np.random.random((3, 3))"
   ]
  },
  {
   "cell_type": "code",
   "execution_count": 41,
   "metadata": {},
   "outputs": [
    {
     "name": "stdout",
     "output_type": "stream",
     "text": [
      "[[ 0.60745029  0.10180186 -1.26028192]\n",
      " [ 3.18471804 -0.97103394 -0.64908525]\n",
      " [-0.92707271 -0.48407973 -0.48318084]]\n",
      "----------------------------------------\n",
      "[[-1.74976547  0.3426804   1.1530358 ]\n",
      " [-0.25243604  0.98132079  0.51421884]\n",
      " [ 0.22117967 -1.07004333 -0.18949583]]\n",
      "----------------------------------------\n",
      "[[-1.74976547  0.3426804   1.1530358 ]\n",
      " [-0.25243604  0.98132079  0.51421884]\n",
      " [ 0.22117967 -1.07004333 -0.18949583]]\n"
     ]
    }
   ],
   "source": [
    "# Create a 3x3 array of normally distributed random values\n",
    "# with mean 0 and standard deviation 1\n",
    "nd = np.random.normal(0, 1, (3, 3))\n",
    "print(nd)\n",
    "print('-'*40)\n",
    "# 如果想要每次執行都有相同的結果，必須設定亂數 seed\n",
    "nps = np.random.RandomState(seed=100)\n",
    "print(nps.normal(0, 1, (3, 3)))\n",
    "print('-'*40)\n",
    "nps = np.random.RandomState(seed=100)\n",
    "print(nps.normal(0, 1, (3, 3)))"
   ]
  },
  {
   "cell_type": "markdown",
   "metadata": {},
   "source": [
    "另有一個和 random.normal() 類似的函式 - random.randn()\n",
    "random.randn() 設定 mean = 0, standard deviation = 1 不能改變，\n",
    "但 random.normal() 預設雖是 mean=0, standard deviation=1, 但可以調整平均值和標準差，¶"
   ]
  },
  {
   "cell_type": "code",
   "execution_count": 42,
   "metadata": {},
   "outputs": [
    {
     "name": "stdout",
     "output_type": "stream",
     "text": [
      "[[-12.49765473   8.42680403  16.53035803]\n",
      " [  2.47563963  14.81320787  10.14218841]\n",
      " [  7.21179669  -5.70043331   3.10504169]]\n",
      "------------------------------\n",
      "[[ 0.25500144 -0.45802699  0.43516349]\n",
      " [-0.58359505  0.81684707  0.67272081]\n",
      " [-0.10441114 -0.53128038  1.02973269]]\n"
     ]
    }
   ],
   "source": [
    "nps = np.random.RandomState(seed=100)\n",
    "print(nps.normal(5, 10, (3, 3))) # mean=5, standard deviation=10\n",
    "print('-'*30)\n",
    "print(nps.randn(3, 3)) # mean=0, standard deviation=1"
   ]
  },
  {
   "cell_type": "code",
   "execution_count": 43,
   "metadata": {},
   "outputs": [
    {
     "data": {
      "text/plain": [
       "array([[1., 0., 0.],\n",
       "       [0., 1., 0.],\n",
       "       [0., 0., 1.]])"
      ]
     },
     "execution_count": 43,
     "metadata": {},
     "output_type": "execute_result"
    }
   ],
   "source": [
    "# Create a 3x3 identity matrix\n",
    "np.eye(3)"
   ]
  },
  {
   "cell_type": "code",
   "execution_count": 44,
   "metadata": {},
   "outputs": [
    {
     "data": {
      "text/plain": [
       "array([1., 1., 1.])"
      ]
     },
     "execution_count": 44,
     "metadata": {},
     "output_type": "execute_result"
    }
   ],
   "source": [
    "# Create an uninitialized array of three integers\n",
    "# The values will be whatever happens to already exist at that memory location\n",
    "np.empty(3)"
   ]
  },
  {
   "cell_type": "code",
   "execution_count": 45,
   "metadata": {},
   "outputs": [
    {
     "name": "stdout",
     "output_type": "stream",
     "text": [
      "['ac' 'bd']\n"
     ]
    }
   ],
   "source": [
    "# 一些 NumPy Array 的小技巧\n",
    "#--- 1.字串合併 ---#\n",
    "#x1 = np.array([1, 2, 3])\n",
    "#x2 = np.array([4, 5, 6])\n",
    "x1 = np.array(['a','b'])\n",
    "x2 = np.array(['c','d'])\n",
    "print(np.char.add(x1,x2))"
   ]
  },
  {
   "cell_type": "code",
   "execution_count": 46,
   "metadata": {},
   "outputs": [
    {
     "name": "stdout",
     "output_type": "stream",
     "text": [
      "Hello Hello Hello \n"
     ]
    }
   ],
   "source": [
    "#--- 2.字串倍數相乘 ---#\n",
    "x3 = 'Hello '\n",
    "print(np.char.multiply(x3, 3))"
   ]
  },
  {
   "cell_type": "code",
   "execution_count": 47,
   "metadata": {},
   "outputs": [
    {
     "name": "stdout",
     "output_type": "stream",
     "text": [
      "This is a outstanding sotry..\n"
     ]
    }
   ],
   "source": [
    "#--- 3.第 1 個字母大寫 ---#\n",
    "x4 = 'this is a outstanding sotry..'\n",
    "print(np.char.capitalize(x4))"
   ]
  },
  {
   "cell_type": "code",
   "execution_count": 48,
   "metadata": {},
   "outputs": [
    {
     "name": "stdout",
     "output_type": "stream",
     "text": [
      "This Is A Outstanding Sotry..\n"
     ]
    }
   ],
   "source": [
    "#--- 4.第 1 個字母大寫 ---#\n",
    "print(np.char.title(x4)) # first letter to capital"
   ]
  },
  {
   "cell_type": "code",
   "execution_count": 49,
   "metadata": {},
   "outputs": [
    {
     "name": "stdout",
     "output_type": "stream",
     "text": [
      "['hello, world']\n",
      "hello, world\n"
     ]
    }
   ],
   "source": [
    "#--- 5.每個字母小寫 ---#\n",
    "print(np.char.lower(['HELLO, WORLD']))\n",
    "print(np.char.lower('HELLO, World'))"
   ]
  },
  {
   "cell_type": "code",
   "execution_count": 50,
   "metadata": {},
   "outputs": [
    {
     "name": "stdout",
     "output_type": "stream",
     "text": [
      "['PYTHON' 'DATA']\n",
      "PYTHON IS EASY\n"
     ]
    }
   ],
   "source": [
    "#--- 6.每個字母大寫 ---#\n",
    "print(np.char.upper(['python', 'data']))\n",
    "print(np.char.upper('python is easy'))"
   ]
  },
  {
   "cell_type": "code",
   "execution_count": 51,
   "metadata": {},
   "outputs": [
    {
     "name": "stdout",
     "output_type": "stream",
     "text": [
      "['are', 'you', 'coming', 'to', 'the', 'party?']\n"
     ]
    }
   ],
   "source": [
    "#-- 7.切割每個文字 ---#\n",
    "word = 'are you coming to the party?'\n",
    "words = np.char.split(word)\n",
    "print(words)"
   ]
  },
  {
   "cell_type": "code",
   "execution_count": 52,
   "metadata": {},
   "outputs": [
    {
     "name": "stdout",
     "output_type": "stream",
     "text": [
      "['hello', 'are you coming to the ', 'party?']\n"
     ]
    }
   ],
   "source": [
    "#-- 8.切割每一列文字 ---#\n",
    "word = 'hello\\nare you coming to the \\nparty?'\n",
    "words = np.char.splitlines(word)\n",
    "print(words)"
   ]
  },
  {
   "cell_type": "code",
   "execution_count": 53,
   "metadata": {},
   "outputs": [
    {
     "name": "stdout",
     "output_type": "stream",
     "text": [
      "['ina' 'admi' 'anaita']\n"
     ]
    }
   ],
   "source": [
    "#-- 9.去除頭尾的贅字 ---#\n",
    "word = ['ninan', 'admin', 'anaitan']\n",
    "print(np.char.strip(word, 'n'))"
   ]
  },
  {
   "cell_type": "code",
   "execution_count": 54,
   "metadata": {},
   "outputs": [
    {
     "name": "stdout",
     "output_type": "stream",
     "text": [
      "['d:m:y' 'y-m-d']\n"
     ]
    }
   ],
   "source": [
    "#-- 10.合併字串 ---#\n",
    "print(np.char.join([':','-'],['dmy','ymd'])) # join strings"
   ]
  },
  {
   "cell_type": "code",
   "execution_count": 55,
   "metadata": {},
   "outputs": [
    {
     "name": "stdout",
     "output_type": "stream",
     "text": [
      "['He was a good dancer']\n"
     ]
    }
   ],
   "source": [
    "#-- 11.文字取代 ---#\n",
    "print(np.char.replace(['He is a good dancer'], 'is', 'was')) # subtitute 'is' to 'was'"
   ]
  },
  {
   "cell_type": "markdown",
   "metadata": {},
   "source": [
    "# Function"
   ]
  },
  {
   "cell_type": "code",
   "execution_count": 57,
   "metadata": {},
   "outputs": [],
   "source": [
    "# 定義一個函數名稱 my_function2\n",
    "# my_function2 有一個參數 name，函數的工作就是印出 name 參數\n",
    "\n",
    "def my_function2(name):\n",
    "    print(name)"
   ]
  },
  {
   "cell_type": "code",
   "execution_count": 58,
   "metadata": {},
   "outputs": [
    {
     "name": "stdout",
     "output_type": "stream",
     "text": [
      "Apple\n",
      "banana\n",
      "orange\n"
     ]
    }
   ],
   "source": [
    "# 呼叫函數 my_function2，傳入 aList 參數\n",
    "aList = ['Apple', 'banana', 'orange']\n",
    "for item in aList:\n",
    "    my_function2(item)"
   ]
  },
  {
   "cell_type": "markdown",
   "metadata": {},
   "source": [
    "函數的參數有兩種使用情況\n",
    "1.fixed number of arguments (固定參數數目)\n",
    "2.arbitrary number of arguments (不固定參數數目)"
   ]
  },
  {
   "cell_type": "code",
   "execution_count": 59,
   "metadata": {},
   "outputs": [],
   "source": [
    "# 定義一個函數名稱 my_function3()，有 2 個參數\n",
    "def my_function3(num1, num2):\n",
    "    return num1 + num2"
   ]
  },
  {
   "cell_type": "code",
   "execution_count": 60,
   "metadata": {},
   "outputs": [
    {
     "name": "stdout",
     "output_type": "stream",
     "text": [
      "my_function3(x1, x2) =  30\n"
     ]
    }
   ],
   "source": [
    "# 呼叫函數 my_function3，傳入 2 個參數\n",
    "x1 = 10\n",
    "x2 = 20\n",
    "print('my_function3(x1, x2) = ', my_function3(x1, x2))"
   ]
  },
  {
   "cell_type": "code",
   "execution_count": 61,
   "metadata": {},
   "outputs": [],
   "source": [
    "# Arbitrary Arguments (不固定參數數目)\n",
    "def my_function4(*args):\n",
    "    sum = 0\n",
    "    for x in args:\n",
    "        sum += x\n",
    "    return sum"
   ]
  },
  {
   "cell_type": "code",
   "execution_count": 62,
   "metadata": {},
   "outputs": [
    {
     "name": "stdout",
     "output_type": "stream",
     "text": [
      "30\n",
      "60\n"
     ]
    }
   ],
   "source": [
    "# 呼叫函數 my_function4\n",
    "print(my_function4(10, 20))\n",
    "\n",
    "print(my_function4(10, 20, 30))"
   ]
  },
  {
   "cell_type": "code",
   "execution_count": 63,
   "metadata": {},
   "outputs": [],
   "source": [
    "# Keyword Arguments (指定參數名稱，表示參數的順序不同，但可以用參數名稱對應)\n",
    "def my_function5(child1, child2, child3):\n",
    "    result = child1 + \" \" + child2 + \" \" + child3\n",
    "    return result"
   ]
  },
  {
   "cell_type": "code",
   "execution_count": 64,
   "metadata": {},
   "outputs": [
    {
     "name": "stdout",
     "output_type": "stream",
     "text": [
      "ABC DEF GHI\n",
      "ABC DEF GHI\n"
     ]
    }
   ],
   "source": [
    "# 呼叫函數 my_function5\n",
    "result = my_function5(child3='GHI', child2='DEF', child1='ABC') # 指定參數名稱\n",
    "print(result)\n",
    "\n",
    "result = my_function5(child2='DEF', child1='ABC', child3='GHI') # 指定參數名稱\n",
    "print(result)"
   ]
  },
  {
   "cell_type": "code",
   "execution_count": 65,
   "metadata": {},
   "outputs": [],
   "source": [
    "# Arbitrary Keyword Arguments, **kwargs\n",
    "# 當不知道有多少 keywords arguments 時可以使用此方法\n",
    "def my_function6(**kwargs):\n",
    "    print('kwargs type: ', type(kwargs)) # kwargs is a dictionary object\n",
    "    for item in kwargs:\n",
    "        print('item[{}]={}'.format(item, kwargs[item]))"
   ]
  },
  {
   "cell_type": "code",
   "execution_count": 66,
   "metadata": {},
   "outputs": [
    {
     "name": "stdout",
     "output_type": "stream",
     "text": [
      "kwargs type:  <class 'dict'>\n",
      "item[A1]=GHI\n",
      "item[A2]=DEF\n",
      "item[A3]=ABC\n",
      "item[A4]=XYZ\n"
     ]
    }
   ],
   "source": [
    "my_function6(A1='GHI', A2='DEF', A3='ABC', A4='XYZ')"
   ]
  },
  {
   "cell_type": "code",
   "execution_count": 67,
   "metadata": {},
   "outputs": [
    {
     "name": "stdout",
     "output_type": "stream",
     "text": [
      "I am from USA\n",
      "I am from Taiwan\n"
     ]
    }
   ],
   "source": [
    "# 預設參數值 (Default Parameter Value)\n",
    "# 此題預設參數值是 'Taiwan'\n",
    "def my_function7(country = \"Taiwan\"):\n",
    "    print(\"I am from \" + country)\n",
    "\n",
    "my_function7('USA')\n",
    "my_function7()"
   ]
  },
  {
   "cell_type": "code",
   "execution_count": 68,
   "metadata": {},
   "outputs": [],
   "source": [
    "# 遞迴函數 (Recursion)\n",
    "def tri_recursion(k):\n",
    "    if (k > 0):\n",
    "        result = k + tri_recursion(k-1)\n",
    "        #print(result)\n",
    "    else:\n",
    "        result = 0\n",
    "    return result"
   ]
  },
  {
   "cell_type": "code",
   "execution_count": 69,
   "metadata": {},
   "outputs": [
    {
     "data": {
      "text/plain": [
       "15"
      ]
     },
     "execution_count": 69,
     "metadata": {},
     "output_type": "execute_result"
    }
   ],
   "source": [
    "tri_recursion(5)"
   ]
  },
  {
   "cell_type": "markdown",
   "metadata": {},
   "source": [
    "lambda 函數\n",
    "lambda 函數主要目的是要快速定義一個函數，不需要函數名稱。\n",
    "lambda 函數可以有許多參數，但只有一行程式碼。\n",
    "lambda 函數運算式的計算結果會自動傳回來，不需要使用return指令\n",
    "Lambda函數不能夠使用指定運算子，也不可以有迴圈"
   ]
  },
  {
   "cell_type": "code",
   "execution_count": 70,
   "metadata": {},
   "outputs": [
    {
     "name": "stdout",
     "output_type": "stream",
     "text": [
      "20\n"
     ]
    }
   ],
   "source": [
    "# 定義一個 lambda 函數，此函數會將傳遞的參數 * 2\n",
    "result = lambda x: x * 2\n",
    "print(result(10))"
   ]
  },
  {
   "cell_type": "code",
   "execution_count": 71,
   "metadata": {},
   "outputs": [
    {
     "name": "stdout",
     "output_type": "stream",
     "text": [
      "30\n"
     ]
    }
   ],
   "source": [
    "# 定義一個 lambda 函數，此函數有 2 個參數|\n",
    "result = lambda x, y: x + y\n",
    "print(result(10, 20))"
   ]
  },
  {
   "cell_type": "code",
   "execution_count": 72,
   "metadata": {},
   "outputs": [
    {
     "name": "stdout",
     "output_type": "stream",
     "text": [
      "200\n"
     ]
    }
   ],
   "source": [
    "# 定義一個 lambda 函數，此函數比較兩個參數的大小\n",
    "f = lambda num1, num2: num1 if num1 > num2 else num2\n",
    "print(f(100, 200))"
   ]
  },
  {
   "cell_type": "code",
   "execution_count": 73,
   "metadata": {},
   "outputs": [
    {
     "name": "stdout",
     "output_type": "stream",
     "text": [
      "[50, 40]\n"
     ]
    }
   ],
   "source": [
    "# 方法 1: 使用 for 迴圈，逐筆選出\n",
    "scores = [90, 50, 80, 40, 100]\n",
    "result = []\n",
    "for score in scores:\n",
    "    if score < 60:\n",
    "        result.append(score)\n",
    "print(result)"
   ]
  },
  {
   "cell_type": "code",
   "execution_count": 74,
   "metadata": {},
   "outputs": [
    {
     "name": "stdout",
     "output_type": "stream",
     "text": [
      "[50, 40]\n"
     ]
    }
   ],
   "source": [
    "# 方法 2: 自訂函數搭配內建 filter() 函數\n",
    "# 自訂函數 qlyScore()\n",
    "scores = [90, 50, 80, 40, 100]\n",
    "def qlyScore(x):\n",
    "    if x < 60:\n",
    "        return True\n",
    "    else:\n",
    "        return False\n",
    "    \n",
    "result = filter(qlyScore, scores)\n",
    "print(list(result))"
   ]
  },
  {
   "cell_type": "code",
   "execution_count": 75,
   "metadata": {},
   "outputs": [
    {
     "name": "stdout",
     "output_type": "stream",
     "text": [
      "[50, 40]\n"
     ]
    }
   ],
   "source": [
    "# 方法 3: 使用 lambda 函數搭配內建 filter() 函數\n",
    "#f = lambda x: True if x < 60 else False\n",
    "#result = filter(f, scores)\n",
    "result = filter(lambda x: True if x<60 else False, scores)\n",
    "print(list(result))"
   ]
  },
  {
   "cell_type": "code",
   "execution_count": 76,
   "metadata": {},
   "outputs": [
    {
     "data": {
      "text/plain": [
       "array([50, 40])"
      ]
     },
     "execution_count": 76,
     "metadata": {},
     "output_type": "execute_result"
    }
   ],
   "source": [
    "# 方法 4: 使用 numpy 套件\n",
    "import numpy as np\n",
    "np1 = np.array(scores)\n",
    "np1[np1 < 60]"
   ]
  },
  {
   "cell_type": "markdown",
   "metadata": {},
   "source": [
    "例外處理 (Exception Handling)\n",
    "當程式發生錯誤，或是呼叫 exception，Python 程式會停止執行，並且產生錯誤訊息。\n",
    "例外處理主要由 try 和 except 兩個主要指令，外加選擇性的 else 和 finally 指令。\n",
    "try 區塊檢驗程式碼是否有錯誤的區塊。\n",
    "except 區塊是處理程式碼錯誤的區塊。\n",
    "finally 區塊是不論程式是否發生有錯，一定要執行的區塊。"
   ]
  },
  {
   "cell_type": "markdown",
   "metadata": {},
   "source": [
    "try... except... finally 語法\n",
    "try:\n",
    "    # 想要執行但可能引發錯誤的程式區塊\n",
    "except: 例外錯誤類型1 [as 參數]:     # [as 參數] 可省略 \n",
    "    # 發生例外錯誤類型1 的程式\n",
    "except: 例外錯誤類型2 [as 參數]:     # [as 參數] 可省略 :\n",
    "    # 發生例外錯誤類型2 的程式\n",
    "except Exception [as 參數]:     # [as 參數] 可省略 : \n",
    "    # 處理上面未捕捉，但其它可能發生的錯誤\n",
    "finally:\n",
    "    # 不管有無錯誤，最後都會執行"
   ]
  },
  {
   "cell_type": "code",
   "execution_count": 77,
   "metadata": {},
   "outputs": [
    {
     "name": "stdout",
     "output_type": "stream",
     "text": [
      "請輸入兩個整數(空格隔開): 123\n",
      "輸入資料的型態錯誤!...  not enough values to unpack (expected 2, got 1)\n",
      "處理完畢!\n"
     ]
    }
   ],
   "source": [
    "# try-except-finally 範例\n",
    "try:\n",
    "  a, b = input('請輸入兩個整數(空格隔開): ').split()\n",
    "  a = int(a)\n",
    "  b = int(b)\n",
    "  print('兩個整數相除結果: ', a/b)\n",
    "except ZeroDivisionError as error1:\n",
    "  print(\"被除數是 0 的狀況!... \", error1)\n",
    "except ValueError as error2:\n",
    "  print('輸入資料的型態錯誤!... ', error2)\n",
    "finally:\n",
    "    print('處理完畢!')"
   ]
  },
  {
   "cell_type": "code",
   "execution_count": 78,
   "metadata": {},
   "outputs": [
    {
     "name": "stdout",
     "output_type": "stream",
     "text": [
      "日期時間, 溫度,  濕度\n",
      "\n",
      "2020-04-12 15:25:22,34,70\n",
      "\n"
     ]
    }
   ],
   "source": [
    "import random \n",
    "from datetime import datetime\n",
    "temperature = random.randint(10, 40) # 溫度最高 40 度，最低 10 度\n",
    "humidity = random.randint(30, 100)   # 濕度最高 40 度，最低 10 度\n",
    "current = datetime.now()\n",
    "currentTime = current.strftime('%Y-%m-%d %H:%M:%S')\n",
    "print('日期時間, 溫度,  濕度\\n')\n",
    "file = open('weatherTest.txt', 'a')\n",
    "file.write('日期時間, 溫度, 濕度\\n')\n",
    "weather = currentTime + ',' + str(temperature) + ',' + str(humidity) + '\\n'\n",
    "file.write(weather)\n",
    "print(weather)\n",
    "file.close()"
   ]
  },
  {
   "cell_type": "code",
   "execution_count": 79,
   "metadata": {},
   "outputs": [
    {
     "name": "stdout",
     "output_type": "stream",
     "text": [
      "日期時間, 溫度, 濕度\n",
      "2020-04-12 15:25:22,34,70\n",
      "\n"
     ]
    }
   ],
   "source": [
    "file = open('weatherTest.txt', 'r', encoding='cp950')\n",
    "tmp = file.read()\n",
    "file.close()\n",
    "print(tmp)"
   ]
  },
  {
   "cell_type": "code",
   "execution_count": null,
   "metadata": {},
   "outputs": [],
   "source": []
  }
 ],
 "metadata": {
  "kernelspec": {
   "display_name": "Python 3",
   "language": "python",
   "name": "python3"
  },
  "language_info": {
   "codemirror_mode": {
    "name": "ipython",
    "version": 3
   },
   "file_extension": ".py",
   "mimetype": "text/x-python",
   "name": "python",
   "nbconvert_exporter": "python",
   "pygments_lexer": "ipython3",
   "version": "3.7.4"
  }
 },
 "nbformat": 4,
 "nbformat_minor": 2
}
