{
 "cells": [
  {
   "cell_type": "code",
   "execution_count": 2,
   "metadata": {},
   "outputs": [
    {
     "name": "stdout",
     "output_type": "stream",
     "text": [
      "[14, 13, 12345, 23, 78]\n",
      "下標為5\n",
      "234\n",
      "下標為4\n",
      "78\n",
      "下標為2\n",
      "13\n",
      "下標為0\n",
      "12\n",
      "下標為6\n",
      "123\n"
     ]
    }
   ],
   "source": [
    "# -*- coding: utf-8 -*- \n",
    "import random \n",
    "# 從一個list中隨機挑選5個 \n",
    "list = [12, 23, 13, 14, 78, 234, 123, 12345] \n",
    "randomlist = random.sample(list, 5) \n",
    "print(randomlist) \n",
    "# 在range(10)中隨機生成5個不重複的數，可以作為隨機下標集合，然後到list中取數 \n",
    "len = list.__len__() \n",
    "indexList = range(len) \n",
    "randomIndex = random.sample(indexList, 5) \n",
    "for i in randomIndex: \n",
    "    print (\"下標為%d\" % i )\n",
    "    print (list[i])"
   ]
  },
  {
   "cell_type": "code",
   "execution_count": 7,
   "metadata": {},
   "outputs": [
    {
     "name": "stdout",
     "output_type": "stream",
     "text": [
      "[1.3, 1.0, 1.2]\n"
     ]
    }
   ],
   "source": [
    "import random\n",
    "List = [1.0 ,1.2 ,1.4, 1.3, 1.65]\n",
    "print(random.sample(list, 3)) "
   ]
  },
  {
   "cell_type": "code",
   "execution_count": 8,
   "metadata": {},
   "outputs": [
    {
     "name": "stdout",
     "output_type": "stream",
     "text": [
      "[1.2, 1.4, 1.0, 1.3, 1.65]\n"
     ]
    }
   ],
   "source": [
    "#利用這個方法還可以實現對 list 的打亂操作，只要讓第二個引數和 list 的長度一樣就好了。\n",
    "print(random.sample(List, 5))"
   ]
  },
  {
   "cell_type": "code",
   "execution_count": null,
   "metadata": {},
   "outputs": [],
   "source": [
    "print(random.sample(list,len(List)))"
   ]
  },
  {
   "cell_type": "code",
   "execution_count": 13,
   "metadata": {},
   "outputs": [
    {
     "name": "stdout",
     "output_type": "stream",
     "text": [
      "[1.4, 1.65, 1.2, 1.3, 1.0]\n"
     ]
    }
   ],
   "source": [
    "random.shuffle(List)\n",
    "print(List)"
   ]
  },
  {
   "cell_type": "code",
   "execution_count": 15,
   "metadata": {},
   "outputs": [
    {
     "name": "stdout",
     "output_type": "stream",
     "text": [
      "[1.0, 1.2, 1.3, 1.4, 1.65]\n"
     ]
    }
   ],
   "source": [
    "List.sort()#小到大\n",
    "print(List)"
   ]
  },
  {
   "cell_type": "code",
   "execution_count": null,
   "metadata": {},
   "outputs": [],
   "source": []
  }
 ],
 "metadata": {
  "kernelspec": {
   "display_name": "Python 3",
   "language": "python",
   "name": "python3"
  },
  "language_info": {
   "codemirror_mode": {
    "name": "ipython",
    "version": 3
   },
   "file_extension": ".py",
   "mimetype": "text/x-python",
   "name": "python",
   "nbconvert_exporter": "python",
   "pygments_lexer": "ipython3",
   "version": "3.7.4"
  }
 },
 "nbformat": 4,
 "nbformat_minor": 2
}
