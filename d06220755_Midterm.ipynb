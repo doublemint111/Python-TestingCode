{
 "cells": [
  {
   "cell_type": "markdown",
   "metadata": {},
   "source": [
    "# 109-2   課程: 大數據資料分析  -  期中考試試題\n",
    "### 學號:D06220755 \n",
    "### 姓名:王震越 "
   ]
  },
  {
   "cell_type": "markdown",
   "metadata": {},
   "source": [
    "## <u>Question 1</u> (10%)\n",
    "#### 1-1: 請利用 `datetime` 套件和 `strftime`函式，列印出現在的日期時間，例如:\n",
    "```\n",
    "現在時間是 2020 年 4 月 19 日 18 時 53 分 31 秒\n",
    "```\n",
    "#### 1-2: 有一個字串是 str1 = '11-30-2010'，請將此字串轉為日期。"
   ]
  },
  {
   "cell_type": "code",
   "execution_count": 18,
   "metadata": {},
   "outputs": [
    {
     "name": "stdout",
     "output_type": "stream",
     "text": [
      "現在的時間是: 2020 年 4 月 22 日 10 時 7 分 13 秒\n"
     ]
    }
   ],
   "source": [
    "import datetime\n",
    "now = datetime.datetime.now()\n",
    "print('現在的時間是:', now.year,'年',now.month,'月',now.day,'日',now.hour,'時',now.minute,'分',now.second,'秒')"
   ]
  },
  {
   "cell_type": "code",
   "execution_count": 37,
   "metadata": {},
   "outputs": [],
   "source": [
    "str2 = '11-30-2010' # 日期字串\n",
    "date = datetime.datetime.strptime(str2, \"%m-%d-%Y\") "
   ]
  },
  {
   "cell_type": "markdown",
   "metadata": {},
   "source": [
    "<hr style=\"border-color:brown; border-width:2px\">"
   ]
  },
  {
   "cell_type": "markdown",
   "metadata": {},
   "source": [
    "## <u>Question 2</u> (10%)\n",
    "#### 2-1: 請將 'Hello World!' 字串的字元由最後面到最前面字元逐一取出，例如 'Hello World!' 應該呈現的結果是:\n",
    "```\n",
    "!dlroW olleH\n",
    "```\n",
    "#### 2-2: 如果有一個字串 x 內容是 \n",
    "```Tainan Universifty of        Technology```\n",
    "#### 請去除多餘的空格，將 x 字串轉換為正常的 'Tainan Universifty of Technology' 。"
   ]
  },
  {
   "cell_type": "code",
   "execution_count": 24,
   "metadata": {},
   "outputs": [
    {
     "name": "stdout",
     "output_type": "stream",
     "text": [
      "!dlroW olleH"
     ]
    }
   ],
   "source": [
    "str1 = 'Hello World!'\n",
    "length = len(str1) - 1\n",
    "str1[length]\n",
    "for w in range(length, -1, -1):\n",
    "    print(str1[w], end='')"
   ]
  },
  {
   "cell_type": "code",
   "execution_count": 39,
   "metadata": {},
   "outputs": [
    {
     "data": {
      "text/plain": [
       "'Tainan Universifty of Technology'"
      ]
     },
     "execution_count": 39,
     "metadata": {},
     "output_type": "execute_result"
    }
   ],
   "source": [
    "import re\n",
    "x = ' Tainan Universifty of    Technology'\n",
    "x = x.strip()\n",
    "x = re.sub(' +', ' ', x)\n",
    "x"
   ]
  },
  {
   "cell_type": "markdown",
   "metadata": {},
   "source": [
    "<hr style=\"border-color:brown; border-width:2px\">"
   ]
  },
  {
   "cell_type": "markdown",
   "metadata": {},
   "source": [
    "## <u>Question 3</u> (10%)\n",
    "#### 3.1: 利用 Python 產生 26 個英文單字給 letters 變數。\n",
    "#### 3.2: 請從 letters 隨機取出 12 個英文字母"
   ]
  },
  {
   "cell_type": "code",
   "execution_count": 40,
   "metadata": {},
   "outputs": [
    {
     "name": "stdout",
     "output_type": "stream",
     "text": [
      "abcdefghijklmnopqrstuvwxyz\n"
     ]
    }
   ],
   "source": [
    "letters = ''\n",
    "for w in range(ord('a'), ord('z')+1):\n",
    "    letters = letters + chr(w)\n",
    "print(letters)"
   ]
  },
  {
   "cell_type": "code",
   "execution_count": 41,
   "metadata": {},
   "outputs": [
    {
     "data": {
      "text/plain": [
       "['u', 'l', 'q', 'z', 'g', 'o', 'e', 'b', 'n', 'x', 'd', 'y']"
      ]
     },
     "execution_count": 41,
     "metadata": {},
     "output_type": "execute_result"
    }
   ],
   "source": [
    "import random\n",
    "random.sample(letters, 12)"
   ]
  },
  {
   "cell_type": "markdown",
   "metadata": {},
   "source": [
    "<hr style=\"border-color:brown; border-width:2px\">"
   ]
  },
  {
   "cell_type": "markdown",
   "metadata": {},
   "source": [
    "## <u>Question 4</u> (10%)\n",
    "#### 4-1: 請使用 range() 函式產生從 0 到 100 間隔 10 的數字順序(例如 0, 10, 20, ... 100)，命名為 x，並用print()顯示元素內容如下:\n",
    "```\n",
    "0 10 20 30 40 50 60 70 80 90 100 \n",
    "```\n",
    "#### 4-2: 請把x 改為``` ['$0', '$10', '$20','$30','$40','$50',$60',$70',$80',$90',$100',]```"
   ]
  },
  {
   "cell_type": "code",
   "execution_count": 4,
   "metadata": {},
   "outputs": [
    {
     "data": {
      "text/plain": [
       "['0', '10', '20', '30', '40', '50', '60', '70', '80', '90', '100']"
      ]
     },
     "execution_count": 4,
     "metadata": {},
     "output_type": "execute_result"
    }
   ],
   "source": [
    "x=[]\n",
    "list1 = range(0,110,10)\n",
    "for i in list1:\n",
    "    x.append(str(i))    \n",
    "x"
   ]
  },
  {
   "cell_type": "code",
   "execution_count": 5,
   "metadata": {},
   "outputs": [
    {
     "data": {
      "text/plain": [
       "['$0', '$10', '$20', '$30', '$40', '$50', '$60', '$70', '$80', '$90', '$100']"
      ]
     },
     "execution_count": 5,
     "metadata": {},
     "output_type": "execute_result"
    }
   ],
   "source": [
    "x=[]\n",
    "for i in list1:\n",
    "    x.append('$'+str(i))\n",
    "x"
   ]
  },
  {
   "cell_type": "markdown",
   "metadata": {},
   "source": [
    "<hr style=\"border-color:brown; border-width:2px\">"
   ]
  },
  {
   "cell_type": "markdown",
   "metadata": {},
   "source": [
    "## <u>Question 5</u> (10%)\n",
    "$$$$ 5-1: 請從 1 到 50 隨機選出 10 個數字的串列 num (可利用 range() 和 sample())，再請將 10 數字的偶數存放到 even_num，奇數存到 odd_num，再分別列印出 even_num 與 odd_num。"
   ]
  },
  {
   "cell_type": "code",
   "execution_count": 60,
   "metadata": {},
   "outputs": [
    {
     "name": "stdout",
     "output_type": "stream",
     "text": [
      "奇數有: [27, 9, 35, 21, 37]\n",
      "偶數有: [6, 10, 42, 8, 40]\n"
     ]
    }
   ],
   "source": [
    "import random\n",
    "Q5=[]\n",
    "even_num=[]\n",
    "odd_num=[]\n",
    "for i in range(10):\n",
    "    w=random.randint(1,50)\n",
    "    Q5.append(w)\n",
    "    if w%2==0:\n",
    "        even_num.append(w)\n",
    "    else:\n",
    "        odd_num.append(w)\n",
    "\n",
    "print('奇數有:',odd_num)\n",
    "print('偶數有:',even_num)"
   ]
  },
  {
   "cell_type": "markdown",
   "metadata": {},
   "source": [
    "<hr style=\"border-color:brown; border-width:2px\">"
   ]
  },
  {
   "cell_type": "markdown",
   "metadata": {},
   "source": [
    "## <u>Question 6</u> (20%)\n",
    "#### 6-1.請使用 pandas 正確讀取 'http://bit.ly/movieusers' 網址資料集，並顯示前 5 筆資料。\n",
    "#### 6-2.請使用 pandas 正確讀取 'gapminder.xlsx' 資料集 (請下載後置於 'C:\\' 目錄)，並顯示前 5 筆資料。"
   ]
  },
  {
   "cell_type": "code",
   "execution_count": 61,
   "metadata": {},
   "outputs": [
    {
     "data": {
      "text/html": [
       "<div>\n",
       "<style scoped>\n",
       "    .dataframe tbody tr th:only-of-type {\n",
       "        vertical-align: middle;\n",
       "    }\n",
       "\n",
       "    .dataframe tbody tr th {\n",
       "        vertical-align: top;\n",
       "    }\n",
       "\n",
       "    .dataframe thead th {\n",
       "        text-align: right;\n",
       "    }\n",
       "</style>\n",
       "<table border=\"1\" class=\"dataframe\">\n",
       "  <thead>\n",
       "    <tr style=\"text-align: right;\">\n",
       "      <th></th>\n",
       "      <th>order_id</th>\n",
       "      <th>quantity</th>\n",
       "      <th>item_name</th>\n",
       "      <th>choice_description</th>\n",
       "      <th>item_price</th>\n",
       "    </tr>\n",
       "  </thead>\n",
       "  <tbody>\n",
       "    <tr>\n",
       "      <td>0</td>\n",
       "      <td>1</td>\n",
       "      <td>1</td>\n",
       "      <td>Chips and Fresh Tomato Salsa</td>\n",
       "      <td>NaN</td>\n",
       "      <td>$2.39</td>\n",
       "    </tr>\n",
       "    <tr>\n",
       "      <td>1</td>\n",
       "      <td>1</td>\n",
       "      <td>1</td>\n",
       "      <td>Izze</td>\n",
       "      <td>[Clementine]</td>\n",
       "      <td>$3.39</td>\n",
       "    </tr>\n",
       "    <tr>\n",
       "      <td>2</td>\n",
       "      <td>1</td>\n",
       "      <td>1</td>\n",
       "      <td>Nantucket Nectar</td>\n",
       "      <td>[Apple]</td>\n",
       "      <td>$3.39</td>\n",
       "    </tr>\n",
       "    <tr>\n",
       "      <td>3</td>\n",
       "      <td>1</td>\n",
       "      <td>1</td>\n",
       "      <td>Chips and Tomatillo-Green Chili Salsa</td>\n",
       "      <td>NaN</td>\n",
       "      <td>$2.39</td>\n",
       "    </tr>\n",
       "    <tr>\n",
       "      <td>4</td>\n",
       "      <td>2</td>\n",
       "      <td>2</td>\n",
       "      <td>Chicken Bowl</td>\n",
       "      <td>[Tomatillo-Red Chili Salsa (Hot), [Black Beans...</td>\n",
       "      <td>$16.98</td>\n",
       "    </tr>\n",
       "  </tbody>\n",
       "</table>\n",
       "</div>"
      ],
      "text/plain": [
       "   order_id  quantity                              item_name  \\\n",
       "0         1         1           Chips and Fresh Tomato Salsa   \n",
       "1         1         1                                   Izze   \n",
       "2         1         1                       Nantucket Nectar   \n",
       "3         1         1  Chips and Tomatillo-Green Chili Salsa   \n",
       "4         2         2                           Chicken Bowl   \n",
       "\n",
       "                                  choice_description item_price  \n",
       "0                                                NaN     $2.39   \n",
       "1                                       [Clementine]     $3.39   \n",
       "2                                            [Apple]     $3.39   \n",
       "3                                                NaN     $2.39   \n",
       "4  [Tomatillo-Red Chili Salsa (Hot), [Black Beans...    $16.98   "
      ]
     },
     "execution_count": 61,
     "metadata": {},
     "output_type": "execute_result"
    }
   ],
   "source": [
    "import numpy as np\n",
    "import pandas as pd\n",
    "Q6Table = pd.read_table('http://bit.ly/chiporders')\n",
    "Q6Table.head()"
   ]
  },
  {
   "cell_type": "code",
   "execution_count": 62,
   "metadata": {},
   "outputs": [
    {
     "data": {
      "text/html": [
       "<div>\n",
       "<style scoped>\n",
       "    .dataframe tbody tr th:only-of-type {\n",
       "        vertical-align: middle;\n",
       "    }\n",
       "\n",
       "    .dataframe tbody tr th {\n",
       "        vertical-align: top;\n",
       "    }\n",
       "\n",
       "    .dataframe thead th {\n",
       "        text-align: right;\n",
       "    }\n",
       "</style>\n",
       "<table border=\"1\" class=\"dataframe\">\n",
       "  <thead>\n",
       "    <tr style=\"text-align: right;\">\n",
       "      <th></th>\n",
       "      <th>country</th>\n",
       "      <th>continent</th>\n",
       "      <th>year</th>\n",
       "      <th>lifeExp</th>\n",
       "      <th>pop</th>\n",
       "      <th>gdpPercap</th>\n",
       "    </tr>\n",
       "  </thead>\n",
       "  <tbody>\n",
       "    <tr>\n",
       "      <td>0</td>\n",
       "      <td>Afghanistan</td>\n",
       "      <td>Asia</td>\n",
       "      <td>1952</td>\n",
       "      <td>28.801</td>\n",
       "      <td>8425333</td>\n",
       "      <td>779.445314</td>\n",
       "    </tr>\n",
       "    <tr>\n",
       "      <td>1</td>\n",
       "      <td>Afghanistan</td>\n",
       "      <td>Asia</td>\n",
       "      <td>1957</td>\n",
       "      <td>30.332</td>\n",
       "      <td>9240934</td>\n",
       "      <td>820.853030</td>\n",
       "    </tr>\n",
       "    <tr>\n",
       "      <td>2</td>\n",
       "      <td>Afghanistan</td>\n",
       "      <td>Asia</td>\n",
       "      <td>1962</td>\n",
       "      <td>31.997</td>\n",
       "      <td>10267083</td>\n",
       "      <td>853.100710</td>\n",
       "    </tr>\n",
       "    <tr>\n",
       "      <td>3</td>\n",
       "      <td>Afghanistan</td>\n",
       "      <td>Asia</td>\n",
       "      <td>1967</td>\n",
       "      <td>34.020</td>\n",
       "      <td>11537966</td>\n",
       "      <td>836.197138</td>\n",
       "    </tr>\n",
       "    <tr>\n",
       "      <td>4</td>\n",
       "      <td>Afghanistan</td>\n",
       "      <td>Asia</td>\n",
       "      <td>1972</td>\n",
       "      <td>36.088</td>\n",
       "      <td>13079460</td>\n",
       "      <td>739.981106</td>\n",
       "    </tr>\n",
       "  </tbody>\n",
       "</table>\n",
       "</div>"
      ],
      "text/plain": [
       "       country continent  year  lifeExp       pop   gdpPercap\n",
       "0  Afghanistan      Asia  1952   28.801   8425333  779.445314\n",
       "1  Afghanistan      Asia  1957   30.332   9240934  820.853030\n",
       "2  Afghanistan      Asia  1962   31.997  10267083  853.100710\n",
       "3  Afghanistan      Asia  1967   34.020  11537966  836.197138\n",
       "4  Afghanistan      Asia  1972   36.088  13079460  739.981106"
      ]
     },
     "execution_count": 62,
     "metadata": {},
     "output_type": "execute_result"
    }
   ],
   "source": [
    "import pandas as pd\n",
    "Q6Table2 = pd.read_excel('gapminder.xlsx')\n",
    "Q6Table2.head()"
   ]
  },
  {
   "cell_type": "markdown",
   "metadata": {},
   "source": [
    "<hr style=\"border-color:brown; border-width:2px\">"
   ]
  },
  {
   "cell_type": "markdown",
   "metadata": {},
   "source": [
    "## <u>Question 7</u> (20%)\n",
    "#### 請讀取鐵達尼號的資料集\n",
    "#### 7-1: 請計算出各艙等乘客人數各是多少人、存活人數，以及存活率。\n",
    "#### 7-2: 請計算出不同出發港口的上船人數各是多少人，存活人數，以及存活率。"
   ]
  },
  {
   "cell_type": "code",
   "execution_count": 80,
   "metadata": {},
   "outputs": [
    {
     "name": "stdout",
     "output_type": "stream",
     "text": [
      "最好的 1 等艙共有: 216 個人; 尚可的 2 等艙共有: 184 個人; 較差的 3 等艙共有: 491 個人;\n",
      "最好的 1 等艙共有: 136 個人存活; 尚可的 2 等艙共有: 87 個人存活; 較差的 3 等艙共有: 119 個人存活;\n",
      "最好的 1 等艙存活率為: 0.63 尚可的 2 等艙存活率為: 0.47 較差的 3 等艙存活率為: 0.24\n"
     ]
    }
   ],
   "source": [
    "import numpy as np\n",
    "import pandas as pd\n",
    "titanic=pd.read_csv('http://bit.ly/kaggletrain')\n",
    "G=len(titanic[titanic.Pclass == 1])\n",
    "N=len(titanic[titanic.Pclass == 2])\n",
    "B=len(titanic[titanic.Pclass == 3])\n",
    "print('最好的 1 等艙共有:', G ,'個人;','尚可的 2 等艙共有:', N ,'個人;','較差的 3 等艙共有:', B ,'個人;')\n",
    "G1=len(titanic.loc[(titanic.Pclass == 1)&(titanic.Survived == 1)])\n",
    "N1=len(titanic.loc[(titanic.Pclass == 2)&(titanic.Survived == 1)])\n",
    "B1=len(titanic.loc[(titanic.Pclass == 3)&(titanic.Survived == 1)])\n",
    "print('最好的 1 等艙共有:', G1 ,'個人存活;','尚可的 2 等艙共有:', N1 ,'個人存活;','較差的 3 等艙共有:', B1 ,'個人存活;')\n",
    "Gpercent=G1/G\n",
    "Npercent=N1/N\n",
    "Bpercent=B1/B\n",
    "Gpercent='%.2f' % Gpercent\n",
    "Npercent='%.2f' % Npercent\n",
    "Bpercent='%.2f' % Bpercent\n",
    "print('最好的 1 等艙存活率為:', Gpercent,'尚可的 2 等艙存活率為:', Npercent,'較差的 3 等艙存活率為:', Bpercent)"
   ]
  },
  {
   "cell_type": "code",
   "execution_count": 156,
   "metadata": {},
   "outputs": [
    {
     "name": "stdout",
     "output_type": "stream",
     "text": [
      "從S港出發的總數為: 644 從C港出發的總數為: 168 從Q港出發的總數為: 77 從不明的港出發的總數為: 2\n",
      "從S港出發的總存活數為: 217 從C港出發的總存活數為: 93 從Q港出發的總存活數為: 30\n",
      "從S港出發的存活率為: 0.34 從C港出發的存活率為: 0.55 從Q港出發的存活率為: 0.39\n"
     ]
    }
   ],
   "source": [
    "#titanic['Embarked'].unique()#'S', 'C', 'Q', nan\n",
    "STotal=len(titanic[titanic.Embarked == 'S'])\n",
    "CTotal=len(titanic[titanic.Embarked == 'C'])\n",
    "QTotal=len(titanic[titanic.Embarked == 'Q'])\n",
    "nanTotal=891-STotal-CTotal-QTotal\n",
    "print('從S港出發的總數為:',STotal,'從C港出發的總數為:',CTotal,'從Q港出發的總數為:',QTotal,'從不明的港出發的總數為:',nanTotal)\n",
    "Ssurvived=len(titanic.loc[(titanic.Embarked == 'S')&(titanic.Survived == 1)])\n",
    "Csurvived=len(titanic.loc[(titanic.Embarked == 'C')&(titanic.Survived == 1)])\n",
    "Qsurvived=len(titanic.loc[(titanic.Embarked == 'Q')&(titanic.Survived == 1)])\n",
    "print('從S港出發的總存活數為:',Ssurvived,'從C港出發的總存活數為:',Csurvived,'從Q港出發的總存活數為:',Qsurvived)\n",
    "\n",
    "Spercent=Ssurvived/STotal\n",
    "Cpercent=Csurvived/CTotal\n",
    "Qpercent=Qsurvived/QTotal\n",
    "\n",
    "Spercent='%.2f' % Spercent\n",
    "Cpercent='%.2f' % Cpercent\n",
    "Qpercent='%.2f' % Qpercent\n",
    "print('從S港出發的存活率為:',Spercent,'從C港出發的存活率為:',Cpercent,'從Q港出發的存活率為:',Qpercent)\n"
   ]
  },
  {
   "cell_type": "markdown",
   "metadata": {},
   "source": [
    "<hr style=\"border-color:brown; border-width:2px\">"
   ]
  },
  {
   "cell_type": "markdown",
   "metadata": {},
   "source": [
    "## <u>Question 8</u> (20%)\n",
    "#### 請讀取 'http://stats.moe.gov.tw/files/detail/107/107_student.csv' 網站的 CSV 檔案\n",
    "#### 8-1: 並請計算出每個學校日間部大學部的學生是多少人?\n",
    "#### 8-2: 請計算出各校的女生/男生的比例。"
   ]
  },
  {
   "cell_type": "code",
   "execution_count": 248,
   "metadata": {},
   "outputs": [
    {
     "name": "stderr",
     "output_type": "stream",
     "text": [
      "D:\\Anaconda3\\lib\\site-packages\\ipykernel_launcher.py:9: SettingWithCopyWarning: \n",
      "A value is trying to be set on a copy of a slice from a DataFrame\n",
      "\n",
      "See the caveats in the documentation: http://pandas.pydata.org/pandas-docs/stable/user_guide/indexing.html#returning-a-view-versus-a-copy\n",
      "  if __name__ == '__main__':\n"
     ]
    }
   ],
   "source": [
    "#step1\n",
    "import numpy as np\n",
    "import pandas as pd\n",
    "Q8Table=pd.read_csv('http://stats.moe.gov.tw/files/detail/107/107_student.csv')\n",
    "Q8TableM=Q8TableM.rename(columns={'日間∕進修別':'日間進修別'})\n",
    "def ChangeDataToInt(target):\n",
    "    for i in range(812):\n",
    "        if Q8TableM[target][i] != '-':\n",
    "            Q8TableM[target][i]=int(Q8TableM[target][i]) \n",
    "ChangeDataToInt('一年級男生')\n",
    "ChangeDataToInt('一年級女生')\n",
    "ChangeDataToInt('二年級男生')\n",
    "ChangeDataToInt('二年級女生')\n",
    "ChangeDataToInt('三年級男生')\n",
    "ChangeDataToInt('三年級女生')\n",
    "ChangeDataToInt('四年級男生')\n",
    "ChangeDataToInt('四年級女生')\n",
    "ChangeDataToInt('五年級男生')\n",
    "ChangeDataToInt('五年級女生')\n",
    "ChangeDataToInt('六年級男生')\n",
    "ChangeDataToInt('六年級女生')\n",
    "ChangeDataToInt('七年級男生')\n",
    "ChangeDataToInt('七年級女生')\n",
    "ChangeDataToInt('延修生男生')\n",
    "ChangeDataToInt('延修生女生')"
   ]
  },
  {
   "cell_type": "code",
   "execution_count": 249,
   "metadata": {},
   "outputs": [],
   "source": [
    "#step2\n",
    "def StudentSum(Q8TableTest,rows):\n",
    "    TotalStudents=0\n",
    "    \n",
    "    if Q8TableTest['一年級男生'].iloc[rows] != '-':\n",
    "        TotalStudents=TotalStudents+Q8TableTest['一年級男生'].iloc[rows]\n",
    "    else :\n",
    "        TotalStudents=TotalStudents+0\n",
    "    if Q8TableTest['一年級女生'].iloc[rows] != '-':\n",
    "        TotalStudents=TotalStudents+Q8TableTest['一年級女生'].iloc[rows]\n",
    "    else :\n",
    "        TotalStudents=TotalStudents+0\n",
    "    if Q8TableTest['二年級男生'].iloc[rows] != '-':\n",
    "        TotalStudents=TotalStudents+Q8TableTest['二年級男生'].iloc[rows]\n",
    "    else :\n",
    "        TotalStudents=TotalStudents+0\n",
    "    if Q8TableTest['二年級女生'].iloc[rows] != '-':\n",
    "        TotalStudents=TotalStudents+Q8TableTest['二年級女生'].iloc[rows]\n",
    "    else :\n",
    "        TotalStudents=TotalStudents+0\n",
    "    if Q8TableTest['三年級男生'].iloc[rows] != '-':\n",
    "        TotalStudents=TotalStudents+Q8TableTest['三年級男生'].iloc[rows]\n",
    "    else :\n",
    "        TotalStudents=TotalStudents+0\n",
    "    if Q8TableTest['三年級女生'].iloc[rows] != '-':\n",
    "        TotalStudents=TotalStudents+Q8TableTest['三年級女生'].iloc[rows]\n",
    "    else :\n",
    "        TotalStudents=TotalStudents+0\n",
    "    if Q8TableTest['四年級男生'].iloc[rows] != '-':\n",
    "        TotalStudents=TotalStudents+Q8TableTest['四年級男生'].iloc[rows]\n",
    "    else :\n",
    "        TotalStudents=TotalStudents+0\n",
    "    if Q8TableTest['四年級女生'].iloc[rows] != '-':\n",
    "        TotalStudents=TotalStudents+Q8TableTest['四年級女生'].iloc[rows]\n",
    "    else :\n",
    "        TotalStudents=TotalStudents+0\n",
    "    if Q8TableTest['五年級男生'].iloc[rows] != '-':\n",
    "        TotalStudents=TotalStudents+Q8TableTest['五年級男生'].iloc[rows]\n",
    "    else :\n",
    "        TotalStudents=TotalStudents+0\n",
    "    if Q8TableTest['五年級女生'].iloc[rows] != '-':\n",
    "        TotalStudents=TotalStudents+Q8TableTest['五年級女生'].iloc[rows]\n",
    "    else :\n",
    "        TotalStudents=TotalStudents+0\n",
    "    if Q8TableTest['六年級男生'].iloc[rows] != '-':\n",
    "        TotalStudents=TotalStudents+Q8TableTest['六年級男生'].iloc[rows]\n",
    "    else :\n",
    "        TotalStudents=TotalStudents+0\n",
    "    if Q8TableTest['六年級女生'].iloc[rows] != '-':\n",
    "        TotalStudents=TotalStudents+Q8TableTest['六年級女生'].iloc[rows]\n",
    "    else :\n",
    "        TotalStudents=TotalStudents+0\n",
    "    if Q8TableTest['七年級男生'].iloc[rows] != '-':\n",
    "        TotalStudents=TotalStudents+Q8TableTest['七年級男生'].iloc[rows]\n",
    "    else :\n",
    "        TotalStudents=TotalStudents+0\n",
    "    if Q8TableTest['七年級女生'].iloc[rows] != '-':\n",
    "        TotalStudents=TotalStudents+Q8TableTest['七年級女生'].iloc[rows]\n",
    "    else :\n",
    "        TotalStudents=TotalStudents+0\n",
    "    if Q8TableTest['延修生男生'].iloc[rows] != '-':\n",
    "        TotalStudents=TotalStudents+Q8TableTest['延修生男生'].iloc[rows]\n",
    "    else :\n",
    "        TotalStudents=TotalStudents+0\n",
    "    if Q8TableTest['延修生女生'].iloc[rows] != '-':\n",
    "        TotalStudents=TotalStudents+Q8TableTest['延修生女生'].iloc[rows]\n",
    "    else :\n",
    "        TotalStudents=TotalStudents+0\n",
    "    \n",
    "    return TotalStudents"
   ]
  },
  {
   "cell_type": "code",
   "execution_count": 250,
   "metadata": {},
   "outputs": [
    {
     "name": "stdout",
     "output_type": "stream",
     "text": [
      "共有 153 筆資料\n",
      "前十筆資料為: [9630, 8689, 16604, 8079, 11390, 8090, 5398, 6057, 4726, 5769]\n"
     ]
    }
   ],
   "source": [
    "#step3\n",
    "TotalStudents=[]\n",
    "Q8TableSchoolNames=Q8Table['學校名稱'].unique()\n",
    "\n",
    "for Uni in Q8TableSchoolNames:\n",
    "    Anw=0\n",
    "    Q8TableTest1=Q8TableM.loc[(Q8TableM.學校名稱 == Uni) & (Q8TableM.日間進修別=='D 日') & (Q8TableM.等級別 =='B 學士')]\n",
    "    Q8TableTest2=Q8TableM.loc[(Q8TableM.學校名稱 == Uni) & (Q8TableM.日間進修別=='D 日') & (Q8TableM.等級別 =='B 四技')]\n",
    "    if Q8TableTest1.empty==False:\n",
    "        Anw=StudentSum(Q8TableTest1,0)\n",
    "        TotalStudents.append(Anw)\n",
    "    if Q8TableTest2.empty==False:\n",
    "        Anw=StudentSum(Q8TableTest2,0)\n",
    "        TotalStudents.append(Anw)\n",
    "    if Q8TableTest1.empty and Q8TableTest2.empty :\n",
    "        TotalStudents.append(0)\n",
    "        \n",
    "print('共有',len(TotalStudents),'筆資料')\n",
    "print('前十筆資料為:',TotalStudents[:10])"
   ]
  },
  {
   "cell_type": "code",
   "execution_count": 251,
   "metadata": {},
   "outputs": [
    {
     "data": {
      "text/html": [
       "<div>\n",
       "<style scoped>\n",
       "    .dataframe tbody tr th:only-of-type {\n",
       "        vertical-align: middle;\n",
       "    }\n",
       "\n",
       "    .dataframe tbody tr th {\n",
       "        vertical-align: top;\n",
       "    }\n",
       "\n",
       "    .dataframe thead th {\n",
       "        text-align: right;\n",
       "    }\n",
       "</style>\n",
       "<table border=\"1\" class=\"dataframe\">\n",
       "  <thead>\n",
       "    <tr style=\"text-align: right;\">\n",
       "      <th></th>\n",
       "      <th>學校名稱</th>\n",
       "      <th>日間部的四技與大學部總在學人數</th>\n",
       "    </tr>\n",
       "  </thead>\n",
       "  <tbody>\n",
       "    <tr>\n",
       "      <td>0</td>\n",
       "      <td>國立政治大學</td>\n",
       "      <td>9630</td>\n",
       "    </tr>\n",
       "    <tr>\n",
       "      <td>1</td>\n",
       "      <td>國立清華大學</td>\n",
       "      <td>8689</td>\n",
       "    </tr>\n",
       "    <tr>\n",
       "      <td>2</td>\n",
       "      <td>國立臺灣大學</td>\n",
       "      <td>16604</td>\n",
       "    </tr>\n",
       "    <tr>\n",
       "      <td>3</td>\n",
       "      <td>國立臺灣師範大學</td>\n",
       "      <td>8079</td>\n",
       "    </tr>\n",
       "    <tr>\n",
       "      <td>4</td>\n",
       "      <td>國立成功大學</td>\n",
       "      <td>11390</td>\n",
       "    </tr>\n",
       "    <tr>\n",
       "      <td>5</td>\n",
       "      <td>國立中興大學</td>\n",
       "      <td>8090</td>\n",
       "    </tr>\n",
       "    <tr>\n",
       "      <td>6</td>\n",
       "      <td>國立交通大學</td>\n",
       "      <td>5398</td>\n",
       "    </tr>\n",
       "    <tr>\n",
       "      <td>7</td>\n",
       "      <td>國立中央大學</td>\n",
       "      <td>6057</td>\n",
       "    </tr>\n",
       "    <tr>\n",
       "      <td>8</td>\n",
       "      <td>國立中山大學</td>\n",
       "      <td>4726</td>\n",
       "    </tr>\n",
       "    <tr>\n",
       "      <td>9</td>\n",
       "      <td>國立臺灣海洋大學</td>\n",
       "      <td>5769</td>\n",
       "    </tr>\n",
       "  </tbody>\n",
       "</table>\n",
       "</div>"
      ],
      "text/plain": [
       "       學校名稱  日間部的四技與大學部總在學人數\n",
       "0    國立政治大學             9630\n",
       "1    國立清華大學             8689\n",
       "2    國立臺灣大學            16604\n",
       "3  國立臺灣師範大學             8079\n",
       "4    國立成功大學            11390\n",
       "5    國立中興大學             8090\n",
       "6    國立交通大學             5398\n",
       "7    國立中央大學             6057\n",
       "8    國立中山大學             4726\n",
       "9  國立臺灣海洋大學             5769"
      ]
     },
     "execution_count": 251,
     "metadata": {},
     "output_type": "execute_result"
    }
   ],
   "source": [
    "#step4 End Q8-1\n",
    "X={'學校名稱':Q8TableSchoolNames, '日間部的四技與大學部總在學人數':TotalStudents}\n",
    "df = pd.DataFrame(X,columns=['學校名稱', '日間部的四技與大學部總在學人數'])\n",
    "df.head(10)"
   ]
  },
  {
   "cell_type": "code",
   "execution_count": null,
   "metadata": {},
   "outputs": [],
   "source": []
  },
  {
   "cell_type": "code",
   "execution_count": 247,
   "metadata": {},
   "outputs": [
    {
     "name": "stdout",
     "output_type": "stream",
     "text": [
      "一般大學\n",
      "566\n"
     ]
    }
   ],
   "source": [
    "#Test 1\n",
    "def Test1(Q8TableTest,rows):\n",
    "    x=0\n",
    "    x=x+Q8TableTest['一年級男生'].iloc[rows]\n",
    "    return x\n",
    "\n",
    "Uni='臺北市立大學'\n",
    "Q8TableTest1=Q8TableM.loc[(Q8TableM.學校名稱 == Uni) & (Q8TableM.日間進修別=='D 日') & (Q8TableM.等級別 =='B 學士')]\n",
    "Q8TableTest2=Q8TableM.loc[(Q8TableM.學校名稱 == Uni) & (Q8TableM.日間進修別=='D 日') & (Q8TableM.等級別 =='B 四技')]\n",
    "if Q8TableTest1.empty==False:\n",
    "    SumStudents=Test1(Q8TableTest1,0)\n",
    "    print('一般大學')\n",
    "    print(SumStudents)\n",
    "if Q8TableTest2.empty==False:\n",
    "    SumStudents=Test1(Q8TableTest2)\n",
    "    print('科技大學')\n",
    "    print(SumStudents)\n",
    "if Q8TableTest1.empty and Q8TableTest2.empty :\n",
    "    print(0)"
   ]
  },
  {
   "cell_type": "code",
   "execution_count": 194,
   "metadata": {},
   "outputs": [
    {
     "data": {
      "text/html": [
       "<div>\n",
       "<style scoped>\n",
       "    .dataframe tbody tr th:only-of-type {\n",
       "        vertical-align: middle;\n",
       "    }\n",
       "\n",
       "    .dataframe tbody tr th {\n",
       "        vertical-align: top;\n",
       "    }\n",
       "\n",
       "    .dataframe thead th {\n",
       "        text-align: right;\n",
       "    }\n",
       "</style>\n",
       "<table border=\"1\" class=\"dataframe\">\n",
       "  <thead>\n",
       "    <tr style=\"text-align: right;\">\n",
       "      <th></th>\n",
       "      <th>學校代碼</th>\n",
       "      <th>學校名稱</th>\n",
       "      <th>日間進修別</th>\n",
       "      <th>等級別</th>\n",
       "      <th>一年級男生</th>\n",
       "      <th>一年級女生</th>\n",
       "      <th>二年級男生</th>\n",
       "      <th>二年級女生</th>\n",
       "      <th>三年級男生</th>\n",
       "      <th>三年級女生</th>\n",
       "      <th>...</th>\n",
       "      <th>五年級男生</th>\n",
       "      <th>五年級女生</th>\n",
       "      <th>六年級男生</th>\n",
       "      <th>六年級女生</th>\n",
       "      <th>七年級男生</th>\n",
       "      <th>七年級女生</th>\n",
       "      <th>延修生男生</th>\n",
       "      <th>延修生女生</th>\n",
       "      <th>縣市名稱</th>\n",
       "      <th>體系別</th>\n",
       "    </tr>\n",
       "  </thead>\n",
       "  <tbody>\n",
       "    <tr>\n",
       "      <td>808</td>\n",
       "      <td>3002</td>\n",
       "      <td>臺北市立大學</td>\n",
       "      <td>D 日</td>\n",
       "      <td>D 博士</td>\n",
       "      <td>14</td>\n",
       "      <td>20</td>\n",
       "      <td>16</td>\n",
       "      <td>14</td>\n",
       "      <td>17</td>\n",
       "      <td>18</td>\n",
       "      <td>...</td>\n",
       "      <td>13</td>\n",
       "      <td>22</td>\n",
       "      <td>9</td>\n",
       "      <td>12</td>\n",
       "      <td>22</td>\n",
       "      <td>38</td>\n",
       "      <td>-</td>\n",
       "      <td>-</td>\n",
       "      <td>30 臺北市</td>\n",
       "      <td>1 一般</td>\n",
       "    </tr>\n",
       "    <tr>\n",
       "      <td>809</td>\n",
       "      <td>3002</td>\n",
       "      <td>臺北市立大學</td>\n",
       "      <td>D 日</td>\n",
       "      <td>M 碩士</td>\n",
       "      <td>124</td>\n",
       "      <td>252</td>\n",
       "      <td>112</td>\n",
       "      <td>228</td>\n",
       "      <td>82</td>\n",
       "      <td>134</td>\n",
       "      <td>...</td>\n",
       "      <td>10</td>\n",
       "      <td>39</td>\n",
       "      <td>12</td>\n",
       "      <td>34</td>\n",
       "      <td>-</td>\n",
       "      <td>-</td>\n",
       "      <td>-</td>\n",
       "      <td>-</td>\n",
       "      <td>30 臺北市</td>\n",
       "      <td>1 一般</td>\n",
       "    </tr>\n",
       "    <tr>\n",
       "      <td>810</td>\n",
       "      <td>3002</td>\n",
       "      <td>臺北市立大學</td>\n",
       "      <td>D 日</td>\n",
       "      <td>B 學士</td>\n",
       "      <td>566</td>\n",
       "      <td>725</td>\n",
       "      <td>524</td>\n",
       "      <td>682</td>\n",
       "      <td>583</td>\n",
       "      <td>692</td>\n",
       "      <td>...</td>\n",
       "      <td>-</td>\n",
       "      <td>-</td>\n",
       "      <td>-</td>\n",
       "      <td>-</td>\n",
       "      <td>-</td>\n",
       "      <td>-</td>\n",
       "      <td>165</td>\n",
       "      <td>139</td>\n",
       "      <td>30 臺北市</td>\n",
       "      <td>1 一般</td>\n",
       "    </tr>\n",
       "    <tr>\n",
       "      <td>811</td>\n",
       "      <td>3002</td>\n",
       "      <td>臺北市立大學</td>\n",
       "      <td>N 職</td>\n",
       "      <td>M 碩士</td>\n",
       "      <td>98</td>\n",
       "      <td>271</td>\n",
       "      <td>87</td>\n",
       "      <td>237</td>\n",
       "      <td>44</td>\n",
       "      <td>119</td>\n",
       "      <td>...</td>\n",
       "      <td>19</td>\n",
       "      <td>23</td>\n",
       "      <td>14</td>\n",
       "      <td>28</td>\n",
       "      <td>-</td>\n",
       "      <td>-</td>\n",
       "      <td>-</td>\n",
       "      <td>-</td>\n",
       "      <td>30 臺北市</td>\n",
       "      <td>1 一般</td>\n",
       "    </tr>\n",
       "  </tbody>\n",
       "</table>\n",
       "<p>4 rows × 22 columns</p>\n",
       "</div>"
      ],
      "text/plain": [
       "     學校代碼    學校名稱 日間進修別   等級別 一年級男生 一年級女生 二年級男生 二年級女生 三年級男生 三年級女生  ... 五年級男生  \\\n",
       "808  3002  臺北市立大學   D 日  D 博士    14    20    16    14    17    18  ...    13   \n",
       "809  3002  臺北市立大學   D 日  M 碩士   124   252   112   228    82   134  ...    10   \n",
       "810  3002  臺北市立大學   D 日  B 學士   566   725   524   682   583   692  ...     -   \n",
       "811  3002  臺北市立大學   N 職  M 碩士    98   271    87   237    44   119  ...    19   \n",
       "\n",
       "    五年級女生 六年級男生 六年級女生 七年級男生 七年級女生 延修生男生 延修生女生    縣市名稱   體系別  \n",
       "808    22     9    12    22    38     -     -  30 臺北市  1 一般  \n",
       "809    39    12    34     -     -     -     -  30 臺北市  1 一般  \n",
       "810     -     -     -     -     -   165   139  30 臺北市  1 一般  \n",
       "811    23    14    28     -     -     -     -  30 臺北市  1 一般  \n",
       "\n",
       "[4 rows x 22 columns]"
      ]
     },
     "execution_count": 194,
     "metadata": {},
     "output_type": "execute_result"
    }
   ],
   "source": [
    "#Test1 ShowTable\n",
    "Uni='臺北市立大學'\n",
    "Q8TableM.loc[(Q8TableM.學校名稱 == Uni)]"
   ]
  },
  {
   "cell_type": "code",
   "execution_count": null,
   "metadata": {},
   "outputs": [],
   "source": []
  },
  {
   "cell_type": "code",
   "execution_count": 258,
   "metadata": {},
   "outputs": [],
   "source": [
    "#step1\n",
    "\n",
    "#男性總數\n",
    "def StudentSumM(Q8TableTest,rows):\n",
    "    TotalStudents=0\n",
    "    \n",
    "    if Q8TableTest['一年級男生'].iloc[rows] != '-':\n",
    "        TotalStudents=TotalStudents+Q8TableTest['一年級男生'].iloc[rows]\n",
    "    else :\n",
    "        TotalStudents=TotalStudents+0\n",
    "    \n",
    "    if Q8TableTest['二年級男生'].iloc[rows] != '-':\n",
    "        TotalStudents=TotalStudents+Q8TableTest['二年級男生'].iloc[rows]\n",
    "    else :\n",
    "        TotalStudents=TotalStudents+0\n",
    "   \n",
    "    if Q8TableTest['三年級男生'].iloc[rows] != '-':\n",
    "        TotalStudents=TotalStudents+Q8TableTest['三年級男生'].iloc[rows]\n",
    "    else :\n",
    "        TotalStudents=TotalStudents+0\n",
    "   \n",
    "    if Q8TableTest['四年級男生'].iloc[rows] != '-':\n",
    "        TotalStudents=TotalStudents+Q8TableTest['四年級男生'].iloc[rows]\n",
    "    else :\n",
    "        TotalStudents=TotalStudents+0\n",
    "    \n",
    "    if Q8TableTest['五年級男生'].iloc[rows] != '-':\n",
    "        TotalStudents=TotalStudents+Q8TableTest['五年級男生'].iloc[rows]\n",
    "    else :\n",
    "        TotalStudents=TotalStudents+0\n",
    "   \n",
    "    if Q8TableTest['六年級男生'].iloc[rows] != '-':\n",
    "        TotalStudents=TotalStudents+Q8TableTest['六年級男生'].iloc[rows]\n",
    "    else :\n",
    "        TotalStudents=TotalStudents+0\n",
    "   \n",
    "    if Q8TableTest['七年級男生'].iloc[rows] != '-':\n",
    "        TotalStudents=TotalStudents+Q8TableTest['七年級男生'].iloc[rows]\n",
    "    else :\n",
    "        TotalStudents=TotalStudents+0\n",
    "    \n",
    "    if Q8TableTest['延修生男生'].iloc[rows] != '-':\n",
    "        TotalStudents=TotalStudents+Q8TableTest['延修生男生'].iloc[rows]\n",
    "    else :\n",
    "        TotalStudents=TotalStudents+0\n",
    "    \n",
    "    \n",
    "    return TotalStudents\n",
    "\n",
    "#女性總數\n",
    "def StudentSumF(Q8TableTest,rows):\n",
    "    TotalStudents=0\n",
    "    \n",
    "    if Q8TableTest['一年級女生'].iloc[rows] != '-':\n",
    "        TotalStudents=TotalStudents+Q8TableTest['一年級女生'].iloc[rows]\n",
    "    else :\n",
    "        TotalStudents=TotalStudents+0\n",
    "        \n",
    "    if Q8TableTest['二年級女生'].iloc[rows] != '-':\n",
    "        TotalStudents=TotalStudents+Q8TableTest['二年級女生'].iloc[rows]\n",
    "    else :\n",
    "        TotalStudents=TotalStudents+0\n",
    "    \n",
    "    if Q8TableTest['三年級女生'].iloc[rows] != '-':\n",
    "        TotalStudents=TotalStudents+Q8TableTest['三年級女生'].iloc[rows]\n",
    "    else :\n",
    "        TotalStudents=TotalStudents+0\n",
    "    \n",
    "    if Q8TableTest['四年級女生'].iloc[rows] != '-':\n",
    "        TotalStudents=TotalStudents+Q8TableTest['四年級女生'].iloc[rows]\n",
    "    else :\n",
    "        TotalStudents=TotalStudents+0\n",
    "        \n",
    "    if Q8TableTest['五年級女生'].iloc[rows] != '-':\n",
    "        TotalStudents=TotalStudents+Q8TableTest['五年級女生'].iloc[rows]\n",
    "    else :\n",
    "        TotalStudents=TotalStudents+0\n",
    "    \n",
    "    if Q8TableTest['六年級女生'].iloc[rows] != '-':\n",
    "        TotalStudents=TotalStudents+Q8TableTest['六年級女生'].iloc[rows]\n",
    "    else :\n",
    "        TotalStudents=TotalStudents+0\n",
    "    \n",
    "    if Q8TableTest['七年級女生'].iloc[rows] != '-':\n",
    "        TotalStudents=TotalStudents+Q8TableTest['七年級女生'].iloc[rows]\n",
    "    else :\n",
    "        TotalStudents=TotalStudents+0\n",
    "        \n",
    "    if Q8TableTest['延修生女生'].iloc[rows] != '-':\n",
    "        TotalStudents=TotalStudents+Q8TableTest['延修生女生'].iloc[rows]\n",
    "    else :\n",
    "        TotalStudents=TotalStudents+0\n",
    "        \n",
    "    return TotalStudents"
   ]
  },
  {
   "cell_type": "code",
   "execution_count": 274,
   "metadata": {},
   "outputs": [
    {
     "name": "stdout",
     "output_type": "stream",
     "text": [
      "153\n",
      "153\n",
      "153\n",
      "153\n"
     ]
    }
   ],
   "source": [
    "#step2\n",
    "TotalMStudents=[]\n",
    "TotalFStudents=[]\n",
    "TotalStudentsMAndFRatio=[]\n",
    "Q8TableSchoolNames=Q8Table['學校名稱'].unique()\n",
    "\n",
    "for Uni in Q8TableSchoolNames:\n",
    "    SumM=0\n",
    "    SumF=0\n",
    "    Ratio=0\n",
    "    Q8TableTotal=Q8TableM.loc[(Q8TableM.學校名稱 == Uni)]\n",
    "    for G in range(len(Q8TableTotal)):\n",
    "        SumM=SumM+StudentSumM(Q8TableTotal,G)\n",
    "        SumF=SumF+StudentSumF(Q8TableTotal,G)\n",
    "    \n",
    "    Ratio=SumF/SumM\n",
    "    Ratio='%.2f' % Ratio\n",
    "    \n",
    "    TotalMStudents.append(SumM)\n",
    "    TotalFStudents.append(SumF)\n",
    "    TotalStudentsMAndFRatio.append(Ratio)\n",
    "    \n",
    "#檢視是否有錯誤\n",
    "print(len(Q8TableSchoolNames))\n",
    "print(len(TotalMStudents))\n",
    "print(len(TotalFStudents))\n",
    "print(len(TotalStudentsMAndFRatio))"
   ]
  },
  {
   "cell_type": "code",
   "execution_count": 275,
   "metadata": {},
   "outputs": [
    {
     "data": {
      "text/html": [
       "<div>\n",
       "<style scoped>\n",
       "    .dataframe tbody tr th:only-of-type {\n",
       "        vertical-align: middle;\n",
       "    }\n",
       "\n",
       "    .dataframe tbody tr th {\n",
       "        vertical-align: top;\n",
       "    }\n",
       "\n",
       "    .dataframe thead th {\n",
       "        text-align: right;\n",
       "    }\n",
       "</style>\n",
       "<table border=\"1\" class=\"dataframe\">\n",
       "  <thead>\n",
       "    <tr style=\"text-align: right;\">\n",
       "      <th></th>\n",
       "      <th>學校名稱</th>\n",
       "      <th>學校的男生總數</th>\n",
       "      <th>學校的女生總數</th>\n",
       "      <th>學校的女生/男生比例</th>\n",
       "    </tr>\n",
       "  </thead>\n",
       "  <tbody>\n",
       "    <tr>\n",
       "      <td>0</td>\n",
       "      <td>國立政治大學</td>\n",
       "      <td>7284</td>\n",
       "      <td>9059</td>\n",
       "      <td>1.24</td>\n",
       "    </tr>\n",
       "    <tr>\n",
       "      <td>1</td>\n",
       "      <td>國立清華大學</td>\n",
       "      <td>9558</td>\n",
       "      <td>7099</td>\n",
       "      <td>0.74</td>\n",
       "    </tr>\n",
       "    <tr>\n",
       "      <td>2</td>\n",
       "      <td>國立臺灣大學</td>\n",
       "      <td>18934</td>\n",
       "      <td>12811</td>\n",
       "      <td>0.68</td>\n",
       "    </tr>\n",
       "    <tr>\n",
       "      <td>3</td>\n",
       "      <td>國立臺灣師範大學</td>\n",
       "      <td>6578</td>\n",
       "      <td>9004</td>\n",
       "      <td>1.37</td>\n",
       "    </tr>\n",
       "    <tr>\n",
       "      <td>4</td>\n",
       "      <td>國立成功大學</td>\n",
       "      <td>13481</td>\n",
       "      <td>7795</td>\n",
       "      <td>0.58</td>\n",
       "    </tr>\n",
       "    <tr>\n",
       "      <td>5</td>\n",
       "      <td>國立中興大學</td>\n",
       "      <td>8801</td>\n",
       "      <td>6083</td>\n",
       "      <td>0.69</td>\n",
       "    </tr>\n",
       "    <tr>\n",
       "      <td>6</td>\n",
       "      <td>國立交通大學</td>\n",
       "      <td>9987</td>\n",
       "      <td>4284</td>\n",
       "      <td>0.43</td>\n",
       "    </tr>\n",
       "    <tr>\n",
       "      <td>7</td>\n",
       "      <td>國立中央大學</td>\n",
       "      <td>7867</td>\n",
       "      <td>4093</td>\n",
       "      <td>0.52</td>\n",
       "    </tr>\n",
       "    <tr>\n",
       "      <td>8</td>\n",
       "      <td>國立中山大學</td>\n",
       "      <td>5851</td>\n",
       "      <td>3574</td>\n",
       "      <td>0.61</td>\n",
       "    </tr>\n",
       "    <tr>\n",
       "      <td>9</td>\n",
       "      <td>國立臺灣海洋大學</td>\n",
       "      <td>5868</td>\n",
       "      <td>2787</td>\n",
       "      <td>0.47</td>\n",
       "    </tr>\n",
       "  </tbody>\n",
       "</table>\n",
       "</div>"
      ],
      "text/plain": [
       "       學校名稱  學校的男生總數  學校的女生總數 學校的女生/男生比例\n",
       "0    國立政治大學     7284     9059       1.24\n",
       "1    國立清華大學     9558     7099       0.74\n",
       "2    國立臺灣大學    18934    12811       0.68\n",
       "3  國立臺灣師範大學     6578     9004       1.37\n",
       "4    國立成功大學    13481     7795       0.58\n",
       "5    國立中興大學     8801     6083       0.69\n",
       "6    國立交通大學     9987     4284       0.43\n",
       "7    國立中央大學     7867     4093       0.52\n",
       "8    國立中山大學     5851     3574       0.61\n",
       "9  國立臺灣海洋大學     5868     2787       0.47"
      ]
     },
     "execution_count": 275,
     "metadata": {},
     "output_type": "execute_result"
    }
   ],
   "source": [
    "#step3 End Q8-2\n",
    "X={'學校名稱' : Q8TableSchoolNames , '學校的男生總數' : TotalMStudents ,'學校的女生總數' : TotalFStudents,'學校的女生/男生比例' : TotalStudentsMAndFRatio}\n",
    "df = pd.DataFrame(X,columns=[ '學校名稱', '學校的男生總數' , '學校的女生總數' , '學校的女生/男生比例' ])\n",
    "df.head(10)"
   ]
  },
  {
   "cell_type": "code",
   "execution_count": null,
   "metadata": {},
   "outputs": [],
   "source": []
  },
  {
   "cell_type": "code",
   "execution_count": 272,
   "metadata": {},
   "outputs": [
    {
     "name": "stdout",
     "output_type": "stream",
     "text": [
      "[3151]\n"
     ]
    }
   ],
   "source": [
    "#Test 2\n",
    "#如果沒有紀錄要補 0\n",
    "def Test(Q8TableTest,rows):\n",
    "    TotalStudents=0\n",
    "    if Q8TableTest['一年級女生'].iloc[rows] != '-':\n",
    "        TotalStudents=TotalStudents+Q8TableTest['一年級女生'].iloc[rows]\n",
    "    else :\n",
    "        TotalStudents=TotalStudents+0\n",
    "        \n",
    "    return TotalStudents\n",
    "\n",
    "Uni='臺北市立大學'\n",
    "TableSum=0\n",
    "TableSums=[]\n",
    "Q8TableTotal=Q8TableM.loc[(Q8TableM.學校名稱 == Uni)]\n",
    "#校內的男性總數\n",
    "for G in range(len(Q8TableTotal)):\n",
    "    TableSum=TableSum+StudentSumM(Q8TableTotal,G)\n",
    "\n",
    "TableSums.append(TableSum)\n",
    "print(TableSums)\n",
    "\n"
   ]
  },
  {
   "cell_type": "markdown",
   "metadata": {},
   "source": [
    "<hr style=\"border-color:brown; border-width:2px\">"
   ]
  }
 ],
 "metadata": {
  "kernelspec": {
   "display_name": "Python 3",
   "language": "python",
   "name": "python3"
  },
  "language_info": {
   "codemirror_mode": {
    "name": "ipython",
    "version": 3
   },
   "file_extension": ".py",
   "mimetype": "text/x-python",
   "name": "python",
   "nbconvert_exporter": "python",
   "pygments_lexer": "ipython3",
   "version": "3.7.4"
  }
 },
 "nbformat": 4,
 "nbformat_minor": 2
}
